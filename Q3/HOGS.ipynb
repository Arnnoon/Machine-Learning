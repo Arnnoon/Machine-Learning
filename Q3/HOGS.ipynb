{
  "nbformat": 4,
  "nbformat_minor": 0,
  "metadata": {
    "colab": {
      "provenance": []
    },
    "kernelspec": {
      "name": "python3",
      "display_name": "Python 3"
    },
    "language_info": {
      "name": "python"
    }
  },
  "cells": [
    {
      "cell_type": "code",
      "execution_count": null,
      "metadata": {
        "id": "e8ddf4ed"
      },
      "outputs": [],
      "source": [
        "import cv2\n",
        "import numpy as np\n",
        "from sklearn.model_selection import train_test_split\n",
        "from sklearn.neighbors import KNeighborsClassifier\n",
        "import random"
      ]
    },
    {
      "cell_type": "code",
      "source": [
        "#this was created because Google Colab does not allow cv2.imshow, so must patch by cv2_imshow.  \n",
        "#If we switch over to regular jupyter notebook not on Colab, we can change c2_imshow to cv2.imshow.  \n",
        "from google.colab.patches import cv2_imshow #only used when running in Google Colab \n",
        "def my_imshow(title, img ):\n",
        "  print(title)\n",
        "  cv2_imshow(img) #should be changed to c2.imshow when not in Colab"
      ],
      "metadata": {
        "id": "LRVdvcUnzoOt"
      },
      "execution_count": null,
      "outputs": []
    },
    {
      "cell_type": "code",
      "execution_count": null,
      "metadata": {
        "colab": {
          "base_uri": "https://localhost:8080/"
        },
        "id": "0c7c5679",
        "outputId": "580df81c-8f4b-44f4-f2a1-765315c931ae"
      },
      "outputs": [
        {
          "output_type": "stream",
          "name": "stdout",
          "text": [
            "Image file read success...\n"
          ]
        }
      ],
      "source": [
        "path = \"\"\n",
        "fileName = path + \"digits.png\" \n",
        "\n",
        "#RGB images in BGR order in OpenCV\n",
        "image = cv2.imread(fileName, cv2.IMREAD_COLOR)\n",
        "\n",
        "# Print error message if image is null\n",
        "if image is None:\n",
        "    print('Could not read image')\n",
        "else: \n",
        "    print(\"Image file read success...\")"
      ]
    },
    {
      "cell_type": "code",
      "source": [
        "# cut out each digit as a labeled dataset and rescale all images from 20 x 20 to 24 x 24.\n",
        "sub_image = []\n",
        "desired_dimension = (24, 24)\n",
        "height, width = image.shape[:2]\n",
        "print(height, width)\n",
        "for i in range(height // 20):\n",
        "    sub_image.append([])\n",
        "    for j in range(width // 20):\n",
        "        sub_image[-1].append(cv2.resize(image[i*20:(i+1)*20, j*20:(j+1)*20], desired_dimension))\n",
        "\n",
        "# Convert sub_image to a numpy array\n",
        "sub_image = np.array(sub_image)\n",
        "\n",
        "# Create a 50x100 array and initialize it to -1\n",
        "label = np.full((50, 100), -1)\n",
        "\n",
        "# Fill the array with alternating values of 0-9\n",
        "for i in range(10):\n",
        "    label[i*5:(i+1)*5, :] = i\n",
        "\n",
        "# Split sub_image into training and testing sets\n",
        "sub_train, sub_test, train_label, test_label = train_test_split(sub_image, label, test_size=0.2, random_state=42)\n",
        "flat_train_label = train_label.flatten()\n",
        "flat_test_label = test_label.flatten()\n",
        "print(flat_train_label.shape)"
      ],
      "metadata": {
        "colab": {
          "base_uri": "https://localhost:8080/"
        },
        "id": "DhPxLibEC6ZF",
        "outputId": "ea6e51a6-4acc-47f8-ea35-20da5a130c79"
      },
      "execution_count": null,
      "outputs": [
        {
          "output_type": "stream",
          "name": "stdout",
          "text": [
            "1000 2000\n",
            "(4000,)\n"
          ]
        }
      ]
    },
    {
      "cell_type": "code",
      "source": [
        "# Convert X_train and X_test to float and scale them\n",
        "float_train = np.float32(sub_train) / 255.0\n",
        "float_test = np.float32(sub_test) / 255.0\n",
        "\n",
        "# Calculate the gradients for the training and testing sets\n",
        "Gx_train = []\n",
        "Gy_train = []\n",
        "\n",
        "for row in float_train:\n",
        "    for img in row:\n",
        "        Gx = cv2.Sobel(img, cv2.CV_32F, 1, 0, ksize=1)\n",
        "        Gy = cv2.Sobel(img, cv2.CV_32F, 0, 1, ksize=1)\n",
        "        Gx_train.append(Gx)\n",
        "        Gy_train.append(Gy)\n",
        "\n",
        "Gx_train = np.array(Gx_train)\n",
        "Gy_train = np.array(Gy_train)\n",
        "\n",
        "print(Gx_train.shape, Gy_train.shape)"
      ],
      "metadata": {
        "id": "ja_2axax6gZ_",
        "colab": {
          "base_uri": "https://localhost:8080/"
        },
        "outputId": "f5fa0be6-80c3-4d3c-9a87-38feffc30d63"
      },
      "execution_count": null,
      "outputs": [
        {
          "output_type": "stream",
          "name": "stdout",
          "text": [
            "(4000, 24, 24, 3) (4000, 24, 24, 3)\n"
          ]
        }
      ]
    },
    {
      "cell_type": "code",
      "source": [
        "# Calculate gradient magnitude and direction ( in degrees )\n",
        "magnitude, angle_degrees = cv2.cartToPolar(Gx_train, Gy_train, angleInDegrees=True)\n",
        "print(magnitude.shape, angle_degrees.shape)\n",
        "# You can then do the histogram yourself ... it might be easier."
      ],
      "metadata": {
        "id": "4TRl3vEb6Thm",
        "colab": {
          "base_uri": "https://localhost:8080/"
        },
        "outputId": "a603807c-ce80-460e-e7fc-33e41306b62c"
      },
      "execution_count": null,
      "outputs": [
        {
          "output_type": "stream",
          "name": "stdout",
          "text": [
            "(4000, 24, 24, 3) (4000, 24, 24, 3)\n"
          ]
        }
      ]
    },
    {
      "cell_type": "code",
      "source": [
        "'''\n",
        "HOG using OpenCV. \n",
        "\n",
        "win_size – Detection window size. Align to block size and block stride.\n",
        "block_size – Block size in pixels. Align to cell size. Only (16,16) is supported for now.\n",
        "block_stride – Block stride. It must be a multiple of cell size.\n",
        "cell_size – Cell size. Only (8, 8) is supported for now.\n",
        "nbins – Number of bins. Only 9 bins per cell are supported for now.\n",
        "win_sigma – Gaussian smoothing window parameter.\n",
        "threshold_L2hys – L2-Hys normalization method shrinkage.\n",
        "gamma_correction – Flag to specify whether the gamma correction preprocessing is required or not.\n",
        "nlevels – Maximum number of detection window increases.\n",
        "'''\n",
        "winSize = desired_dimension\n",
        "blockSize = (16,16) #OpenCV only supports 16 x 16 block sizes \n",
        "blockStride = (8,8) #multiple of cell size. Here it is multiple of 1.  \n",
        "cellSize = (8,8) #OpenCV only supports 8x8 cell size. That means each Block will have 4 histograms\n",
        "nbins = 9 #OpenCV only supports 9 orientations per cell.  That means 1 block has 4 x 9 = 36 features\n",
        "derivAperture = 1\n",
        "winSigma = 4.\n",
        "histogramNormType = 0\n",
        "L2HysThreshold = 2.0000000000000001e-01\n",
        "gammaCorrection = 0\n",
        "hog = cv2.HOGDescriptor(winSize,blockSize,blockStride,cellSize,nbins,derivAperture,winSigma,\n",
        "                        histogramNormType,L2HysThreshold,gammaCorrection)\n",
        "#compute(img[, winStride[, padding[, locations]]]) -> descriptors\n",
        "winStride = (8,8)\n",
        "padding = (8,8)\n",
        "locations = ((0,0),) #we run it at only one location of image (entire image).  Can be used to run at sub-image parts. \n",
        "\n",
        "train_hog_feature = np.zeros((len(sub_train), len(sub_train[0]), 4*4*nbins))\n",
        "#print(hog_feature.shape)\n",
        "for i in range(len(sub_train)):\n",
        "    for j in range(len(sub_train[i])):\n",
        "        feature_vector = hog.compute(sub_train[i][j],winStride,padding,locations)\n",
        "        feature_vector = feature_vector.reshape(-1) # Flatten the 3D array to 1D array\n",
        "        train_hog_feature[i][j] = feature_vector\n",
        "\n",
        "train_hog_feature = train_hog_feature.reshape((train_hog_feature.shape[0]*train_hog_feature.shape[1], train_hog_feature.shape[2]))\n",
        "#print(\"HOG feature: \\n\", train_hog_feature)\n",
        "number_of_train_features = train_hog_feature.shape\n",
        "# There are 7 horizontal and 15 vertical blue windows, making a total of 7 x 15 = 105 positions.\n",
        "# Each 16×16 block is represented by 4 of 8 x 8 blocks. Each block is 9 histogram values. \n",
        "# Each 16x16 block has 4 x 9 = 36×1 feature vector. \n",
        "# The feature is a concatenation of 105 such features to get \n",
        "# a vector of dimension 3,780 from 105 x 36.  \n",
        "\n",
        "print(\"Number of train Features: \", number_of_train_features)\n",
        "# print(\"This is from 9 histo values per cell x 4 cells per 16x16 block x (7x15) blocks per image: \", 9*4*7*15)\n",
        "\n",
        "test_hog_feature = np.zeros((len(sub_test), len(sub_test[0]), 4*4*nbins))\n",
        "# print(hog_feature.shape)\n",
        "for i in range(len(sub_test)):\n",
        "    for j in range(len(sub_test[i])):\n",
        "        feature_vector = hog.compute(sub_test[i][j],winStride,padding,locations)\n",
        "        feature_vector = feature_vector.reshape(-1) # Flatten the 3D array to 1D array\n",
        "        test_hog_feature[i][j] = feature_vector\n",
        "\n",
        "test_hog_feature = test_hog_feature.reshape((test_hog_feature.shape[0]*test_hog_feature.shape[1], test_hog_feature.shape[2]))\n",
        "# print(\"HOG feature: \\n\", test_hog_feature)\n",
        "number_of_test_features = test_hog_feature.shape\n",
        "print(\"Number of test Features: \", number_of_test_features)"
      ],
      "metadata": {
        "id": "xuyp17fD6xRE",
        "colab": {
          "base_uri": "https://localhost:8080/"
        },
        "outputId": "f7c8f3db-612d-45f3-8e63-86d56450405f"
      },
      "execution_count": null,
      "outputs": [
        {
          "output_type": "stream",
          "name": "stdout",
          "text": [
            "Number of train Features:  (4000, 144)\n",
            "Number of test Features:  (1000, 144)\n"
          ]
        }
      ]
    },
    {
      "cell_type": "code",
      "source": [
        "# Convert sub_train images to grayscale and flatten them\n",
        "sub_train_gray = []\n",
        "for row in sub_train:\n",
        "    for img in row:\n",
        "        gray_img = cv2.cvtColor(img, cv2.COLOR_BGR2GRAY)\n",
        "        gray_img_flat = gray_img.flatten()\n",
        "        sub_train_gray.append(gray_img_flat)\n",
        "\n",
        "# Convert sub_test images to grayscale and flatten them\n",
        "sub_test_gray = []\n",
        "for row in sub_test:\n",
        "    for img in row:\n",
        "        gray_img = cv2.cvtColor(img, cv2.COLOR_BGR2GRAY)\n",
        "        gray_img_flat = gray_img.flatten()\n",
        "        sub_test_gray.append(gray_img_flat)"
      ],
      "metadata": {
        "id": "01KiujnhMdX9"
      },
      "execution_count": null,
      "outputs": []
    },
    {
      "cell_type": "code",
      "source": [
        "knn_classifier = KNeighborsClassifier(n_neighbors=5)\n",
        "knn_classifier.fit(train_hog_feature, flat_train_label)\n",
        "HOG_K5 = knn_classifier.predict(test_hog_feature)\n",
        "\n",
        "accuracy = sum(HOG_K5 == flat_test_label) / len(flat_test_label)\n",
        "print(\"HOG_K5 Accuracy:\", accuracy)\n",
        "\n",
        "knn_classifier = KNeighborsClassifier(n_neighbors=1)\n",
        "knn_classifier.fit(train_hog_feature, flat_train_label)\n",
        "HOG_K1 = knn_classifier.predict(test_hog_feature)\n",
        "\n",
        "accuracy = sum(HOG_K1 == flat_test_label) / len(flat_test_label)\n",
        "print(\"HOG_K1 Accuracy:\", accuracy)\n",
        "\n",
        "knn_classifier = KNeighborsClassifier(n_neighbors=5)\n",
        "knn_classifier.fit(sub_train_gray, flat_train_label)\n",
        "GRAY_K5 = knn_classifier.predict(sub_test_gray)\n",
        "\n",
        "accuracy = sum(GRAY_K5 == flat_test_label) / len(flat_test_label)\n",
        "print(\"GRAY_K5 Accuracy:\", accuracy)\n",
        "\n",
        "knn_classifier = KNeighborsClassifier(n_neighbors=1)\n",
        "knn_classifier.fit(sub_train_gray, flat_train_label)\n",
        "GRAY_K1 = knn_classifier.predict(sub_test_gray)\n",
        "\n",
        "accuracy = sum(GRAY_K5 == flat_test_label) / len(flat_test_label)\n",
        "print(\"GRAY_K1 Accuracy:\", accuracy)"
      ],
      "metadata": {
        "colab": {
          "base_uri": "https://localhost:8080/"
        },
        "id": "NTj3fkDC4eGq",
        "outputId": "037d2c3c-e7b5-479d-8c55-cac041ac41b9"
      },
      "execution_count": null,
      "outputs": [
        {
          "output_type": "stream",
          "name": "stdout",
          "text": [
            "HOG_K5 Accuracy: 0.956\n",
            "HOG_K1 Accuracy: 0.949\n",
            "GRAY_K5 Accuracy: 0.924\n",
            "GRAY_K1 Accuracy: 0.924\n"
          ]
        }
      ]
    },
    {
      "cell_type": "code",
      "source": [
        "desired_dimension = (24, 24)\n",
        "row_start = ((random.randint(0, 8)*5) + 3) * 20\n",
        "col_start = random.randint(0, 94) * 20\n",
        "cut_image = image[row_start:row_start+(20*4), col_start:col_start+(20*4)]\n",
        "\n",
        "sub_cut = []\n",
        "desired_dimension = (24, 24)\n",
        "height, width = cut_image.shape[:2]\n",
        "for i in range(height // 20):\n",
        "    sub_cut.append([])\n",
        "    for j in range(width // 20):\n",
        "        sub_cut[-1].append(cv2.resize(cut_image[i*20:(i+1)*20, j*20:(j+1)*20], desired_dimension))\n",
        "\n",
        "first_label = int(((row_start/20)-3)/5)\n",
        "ran_col = random.randint(0, 3)\n",
        "test_cut = []\n",
        "train_cut = []\n",
        "test_cut_label = [first_label, first_label, first_label+1, first_label+1]\n",
        "train_cut_label = [first_label, first_label, first_label, first_label, first_label, first_label, first_label+1, first_label+1, first_label+1, first_label+1, first_label+1, first_label+1]\n",
        "for row in range(len(sub_cut)):\n",
        "    for col in range(len(sub_cut[row])):\n",
        "        if col == ran_col:\n",
        "            test_cut.append(sub_cut[row][col])\n",
        "            cv2.rectangle(cut_image, (ran_col*20, 0), ((ran_col*20)+20, 80), (255, 255, 255), 2)\n",
        "        else:\n",
        "            train_cut.append(sub_cut[row][col])\n",
        "\n",
        "# Display the image with bounding box\n",
        "my_imshow('Selected Sub-Image with Bounding Box', cut_image)\n",
        "for img in test_cut:\n",
        "    my_imshow('Test-Image', img)"
      ],
      "metadata": {
        "colab": {
          "base_uri": "https://localhost:8080/",
          "height": 284
        },
        "id": "fbyPkOAREDiE",
        "outputId": "1dc794b2-18bd-441e-d408-ed8b9b254403"
      },
      "execution_count": null,
      "outputs": [
        {
          "output_type": "stream",
          "name": "stdout",
          "text": [
            "Selected Sub-Image with Bounding Box\n"
          ]
        },
        {
          "output_type": "display_data",
          "data": {
            "text/plain": [
              "<PIL.Image.Image image mode=RGB size=80x80 at 0x7EFE0F2FA7C0>"
            ],
            "image/png": "[encoded data removed]"
          },
          "metadata": {}
        },
        {
          "output_type": "stream",
          "name": "stdout",
          "text": [
            "Test-Image\n"
          ]
        },
        {
          "output_type": "display_data",
          "data": {
            "text/plain": [
              "<PIL.Image.Image image mode=RGB size=24x24 at 0x7EFE0F2AF670>"
            ],
            "image/png": "[encoded data removed]"
          },
          "metadata": {}
        },
        {
          "output_type": "stream",
          "name": "stdout",
          "text": [
            "Test-Image\n"
          ]
        },
        {
          "output_type": "display_data",
          "data": {
            "text/plain": [
              "<PIL.Image.Image image mode=RGB size=24x24 at 0x7EFE0F2AFD90>"
            ],
            "image/png": "[encoded data removed]"
          },
          "metadata": {}
        },
        {
          "output_type": "stream",
          "name": "stdout",
          "text": [
            "Test-Image\n"
          ]
        },
        {
          "output_type": "display_data",
          "data": {
            "text/plain": [
              "<PIL.Image.Image image mode=RGB size=24x24 at 0x7EFE0F2AFA90>"
            ],
            "image/png": "[encoded data removed]"
          },
          "metadata": {}
        },
        {
          "output_type": "stream",
          "name": "stdout",
          "text": [
            "Test-Image\n"
          ]
        },
        {
          "output_type": "display_data",
          "data": {
            "text/plain": [
              "<PIL.Image.Image image mode=RGB size=24x24 at 0x7EFE0F2AFD90>"
            ],
            "image/png": "[encoded data removed]"
          },
          "metadata": {}
        }
      ]
    },
    {
      "cell_type": "code",
      "source": [
        "winSize = desired_dimension\n",
        "blockSize = (16,16)\n",
        "blockStride = (8,8)\n",
        "cellSize = (8,8)\n",
        "nbins = 9\n",
        "derivAperture = 1\n",
        "winSigma = 4.\n",
        "histogramNormType = 0\n",
        "L2HysThreshold = 2.0000000000000001e-01\n",
        "gammaCorrection = 0\n",
        "hog = cv2.HOGDescriptor(winSize,blockSize,blockStride,cellSize,nbins,derivAperture,winSigma,\n",
        "                        histogramNormType,L2HysThreshold,gammaCorrection)\n",
        "\n",
        "winStride = (8,8)\n",
        "padding = (8,8)\n",
        "locations = ((0,0),)\n",
        "\n",
        "train_cut_hog_feature = np.zeros((len(train_cut), 4*4*nbins))\n",
        "for i in range(len(train_cut)):\n",
        "    feature_vector = hog.compute(train_cut[i],winStride,padding,locations)\n",
        "    feature_vector = feature_vector.reshape(-1)\n",
        "    train_cut_hog_feature[i] = feature_vector\n",
        "\n",
        "\n",
        "test_cut_hog_feature = np.zeros((len(test_cut), 4*4*nbins))\n",
        "for i in range(len(test_cut)):\n",
        "    feature_vector = hog.compute(test_cut[i],winStride,padding,locations)\n",
        "    feature_vector = feature_vector.reshape(-1) # Flatten the 3D array to 1D array\n",
        "    test_cut_hog_feature[i] = feature_vector\n",
        "\n",
        "print(train_cut_hog_feature.shape, len(train_cut_label))\n",
        "knn_classifier = KNeighborsClassifier(n_neighbors=1)\n",
        "knn_classifier.fit(train_cut_hog_feature, train_cut_label)\n",
        "HOG_K1 = knn_classifier.predict(test_cut_hog_feature)\n",
        "\n",
        "accuracy = sum(HOG_K1 == test_cut_label) / len(test_cut_label)\n",
        "print(\"HOG_K1 Accuracy:\", accuracy)"
      ],
      "metadata": {
        "colab": {
          "base_uri": "https://localhost:8080/"
        },
        "id": "Xdeprkf3SoIf",
        "outputId": "8fbc1833-1f0f-4287-e5e7-aa79aff4cc21"
      },
      "execution_count": null,
      "outputs": [
        {
          "output_type": "stream",
          "name": "stdout",
          "text": [
            "(12, 144) 12\n",
            "HOG_K1 Accuracy: 1.0\n"
          ]
        }
      ]
    },
    {
      "cell_type": "code",
      "source": [
        "path = \"\"\n",
        "fileName51 = path + \"5.1.png\" \n",
        "fileName52 = path + \"5.2.png\" \n",
        "fileName53 = path + \"5.3.png\" \n",
        "fileName54 = path + \"5.4.png\" \n",
        "\n",
        "#RGB images in BGR order in OpenCV\n",
        "image51 = cv2.imread(fileName51, cv2.IMREAD_COLOR)\n",
        "image51 = cv2.resize(image51, desired_dimension)\n",
        "image52 = cv2.imread(fileName52, cv2.IMREAD_COLOR)\n",
        "image52 = cv2.resize(image52, desired_dimension)\n",
        "image53 = cv2.imread(fileName53, cv2.IMREAD_COLOR)\n",
        "image53 = cv2.resize(image53, desired_dimension)\n",
        "image54 = cv2.imread(fileName54, cv2.IMREAD_COLOR)\n",
        "image54 = cv2.resize(image54, desired_dimension)\n",
        "\n",
        "desired_dimension = (24, 24)\n",
        "test_cut_label = [5, 5, 5, 5]\n",
        "winSize = desired_dimension\n",
        "blockSize = (16,16)\n",
        "blockStride = (8,8)\n",
        "cellSize = (8,8)\n",
        "nbins = 9\n",
        "derivAperture = 1\n",
        "winSigma = 4.\n",
        "histogramNormType = 0\n",
        "L2HysThreshold = 2.0000000000000001e-01\n",
        "gammaCorrection = 0\n",
        "hog = cv2.HOGDescriptor(winSize,blockSize,blockStride,cellSize,nbins,derivAperture,winSigma,\n",
        "                        histogramNormType,L2HysThreshold,gammaCorrection)\n",
        "\n",
        "winStride = (8,8)\n",
        "padding = (8,8)\n",
        "locations = ((0,0),)\n",
        "\n",
        "my_imshow(\"imh51\", image51)\n",
        "my_imshow(\"imh52\", image52)\n",
        "my_imshow(\"imh53\", image53)\n",
        "my_imshow(\"imh54\", image54)\n",
        "\n",
        "train_cut_hog_feature = np.zeros((len(train_cut), 4*4*nbins))\n",
        "for i in range(len(train_cut)):\n",
        "    feature_vector = hog.compute(train_cut[i],winStride,padding,locations)\n",
        "    feature_vector = feature_vector.reshape(-1)\n",
        "    train_cut_hog_feature[i] = feature_vector\n",
        "\n",
        "test_cut = [image51, image52, image53, image54]\n",
        "test_cut_hog_feature = np.zeros((len(test_cut), 4*4*nbins))\n",
        "for i in range(len(test_cut)):\n",
        "    feature_vector = hog.compute(test_cut[i],winStride,padding,locations)\n",
        "    feature_vector = feature_vector.reshape(-1) # Flatten the 3D array to 1D array\n",
        "    test_cut_hog_feature[i] = feature_vector\n",
        "\n",
        "print(train_cut_hog_feature.shape, len(train_cut_label))\n",
        "knn_classifier = KNeighborsClassifier(n_neighbors=1)\n",
        "knn_classifier.fit(train_cut_hog_feature, train_cut_label)\n",
        "HOG_K1 = knn_classifier.predict(test_cut_hog_feature)\n",
        "\n",
        "accuracy = sum(HOG_K1 == test_cut_label) / len(test_cut_label)\n",
        "print(\"HOG_K1 Accuracy:\", accuracy)"
      ],
      "metadata": {
        "colab": {
          "base_uri": "https://localhost:8080/",
          "height": 223
        },
        "id": "-ByC-9APXAUo",
        "outputId": "95eba7c5-fc2b-4821-db30-470e586785ca"
      },
      "execution_count": null,
      "outputs": [
        {
          "output_type": "stream",
          "name": "stdout",
          "text": [
            "imh51\n"
          ]
        },
        {
          "output_type": "display_data",
          "data": {
            "text/plain": [
              "<PIL.Image.Image image mode=RGB size=24x24 at 0x7EFE0F2502B0>"
            ],
            "image/png": "[encoded data removed]"
          },
          "metadata": {}
        },
        {
          "output_type": "stream",
          "name": "stdout",
          "text": [
            "imh52\n"
          ]
        },
        {
          "output_type": "display_data",
          "data": {
            "text/plain": [
              "<PIL.Image.Image image mode=RGB size=24x24 at 0x7EFE0F250370>"
            ],
            "image/png": "[encoded data removed]"
          },
          "metadata": {}
        },
        {
          "output_type": "stream",
          "name": "stdout",
          "text": [
            "imh53\n"
          ]
        },
        {
          "output_type": "display_data",
          "data": {
            "text/plain": [
              "<PIL.Image.Image image mode=RGB size=24x24 at 0x7EFE0F250520>"
            ],
            "image/png": "[encoded data removed]"
          },
          "metadata": {}
        },
        {
          "output_type": "stream",
          "name": "stdout",
          "text": [
            "imh54\n"
          ]
        },
        {
          "output_type": "display_data",
          "data": {
            "text/plain": [
              "<PIL.Image.Image image mode=RGB size=24x24 at 0x7EFE0F250340>"
            ],
            "image/png": "[encoded data removed]"
          },
          "metadata": {}
        },
        {
          "output_type": "stream",
          "name": "stdout",
          "text": [
            "(12, 144) 12\n",
            "HOG_K1 Accuracy: 1.0\n"
          ]
        }
      ]
    },
    {
      "cell_type": "code",
      "source": [
        "img = cv2.imread('digits.png', 0)\n",
        "\n",
        "thresh = cv2.threshold(img, 0, 255, cv2.THRESH_OTSU)[1]\n",
        "\n",
        "num_labels, labels, stats, centroids = cv2.connectedComponentsWithStats(thresh, connectivity=8)\n",
        "\n",
        "images = []\n",
        "labels = []\n",
        "for i in range(1, num_labels):\n",
        "    left, top, width, height, _ = stats[i]\n",
        "\n",
        "    digit_img = img[top:top + height, left:left + width]\n",
        "\n",
        "    resized_img = cv2.resize(digit_img, (24, 24))\n",
        "\n",
        "    images.append(resized_img)\n",
        "    labels.append(i // 500)\n",
        "\n",
        "img_train, img_test, y_train, y_test = train_test_split(images, labels, test_size=0.2, random_state=42)\n",
        "\n",
        "desired_dimension = (24, 24)\n",
        "test_cut_label = [5, 5, 5, 5]\n",
        "winSize = desired_dimension\n",
        "blockSize = (16,16)\n",
        "blockStride = (8,8)\n",
        "cellSize = (8,8)\n",
        "nbins = 9\n",
        "derivAperture = 1\n",
        "winSigma = 4.\n",
        "histogramNormType = 0\n",
        "L2HysThreshold = 2.0000000000000001e-01\n",
        "gammaCorrection = 0\n",
        "hog = cv2.HOGDescriptor(winSize,blockSize,blockStride,cellSize,nbins,derivAperture,winSigma,\n",
        "                        histogramNormType,L2HysThreshold,gammaCorrection)\n",
        "\n",
        "train_features = np.array([hog.compute(cv2.resize(img, desired_dimension)) for img in img_train]).reshape(len(img_train), -1)\n",
        "\n",
        "test_features = np.array([hog.compute(cv2.resize(img, desired_dimension)) for img in img_test]).reshape(len(img_test), -1)\n",
        "\n",
        "knn_classifier = KNeighborsClassifier(n_neighbors=1)\n",
        "knn_classifier.fit(train_features, y_train)\n",
        "\n",
        "predictions = knn_classifier.predict(test_features)\n",
        "accuracy = np.mean(predictions == y_test)\n",
        "\n",
        "print(\"HOG_K1 Accuracy:\", accuracy)"
      ],
      "metadata": {
        "colab": {
          "base_uri": "https://localhost:8080/"
        },
        "id": "R61qLOIVg3T_",
        "outputId": "b095d521-76de-4f90-a560-90c9f597b8fa"
      },
      "execution_count": null,
      "outputs": [
        {
          "output_type": "stream",
          "name": "stdout",
          "text": [
            "HOG_K1 Accuracy: 0.8204121687929342\n"
          ]
        }
      ]
    }
  ]
}