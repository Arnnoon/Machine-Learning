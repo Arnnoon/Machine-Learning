{
  "nbformat": 4,
  "nbformat_minor": 0,
  "metadata": {
    "colab": {
      "provenance": []
    },
    "kernelspec": {
      "name": "python3",
      "display_name": "Python 3"
    },
    "language_info": {
      "name": "python"
    }
  },
  "cells": [
    {
      "cell_type": "code",
      "execution_count": 47,
      "metadata": {
        "id": "f--HYy-0QSqM"
      },
      "outputs": [],
      "source": [
        "import pandas as pd\n",
        "import numpy as np\n",
        "from sklearn import datasets, linear_model\n",
        "from sklearn.metrics import r2_score\n",
        "from sklearn.model_selection import train_test_split\n",
        "\n",
        "# Read the dataset from a tab-separated file\n",
        "df = pd.read_csv('gasoline_use.txt', sep='\\s+', skiprows=37)\n",
        "\n",
        "df.columns = ['I', 'A0', 'A1', 'A2', 'A3', 'A4', 'B']\n",
        "target = df['B']\n",
        "features = df[['A1', 'A2', 'A3', 'A4']]\n",
        "\n",
        "x_train, x_test, y_train, y_test = train_test_split(features, target, test_size=0.2)"
      ]
    },
    {
      "cell_type": "code",
      "source": [
        "# create linear regression object\n",
        "lm = linear_model.LinearRegression()\n",
        "\n",
        "# fit the model to the training data\n",
        "lm.fit(x_train, y_train)\n",
        "\n",
        "print('Coefficients: \\n', lm.coef_)\n",
        "print('Intercept: \\n', lm.intercept_)"
      ],
      "metadata": {
        "colab": {
          "base_uri": "https://localhost:8080/"
        },
        "id": "umbJqWDsWmRf",
        "outputId": "92049b7b-9fa1-4f03-9d2d-44d9970c9800"
      },
      "execution_count": 48,
      "outputs": [
        {
          "output_type": "stream",
          "name": "stdout",
          "text": [
            "Coefficients: \n",
            " [-3.79911420e+01 -6.60620871e-02 -5.84679696e-03  1.42242718e+03]\n",
            "Intercept: \n",
            " 373.93348578463883\n"
          ]
        }
      ]
    },
    {
      "cell_type": "code",
      "source": [
        "y_fitted = lm.predict(x_test)\n",
        "print(\"R^2 = %.2f\" % r2_score(y_test, y_fitted))"
      ],
      "metadata": {
        "colab": {
          "base_uri": "https://localhost:8080/"
        },
        "id": "v2DDC20lXmrh",
        "outputId": "7a9ae88c-498b-4bb5-b94d-6959c065f2e3"
      },
      "execution_count": 49,
      "outputs": [
        {
          "output_type": "stream",
          "name": "stdout",
          "text": [
            "R^2 = 0.36\n"
          ]
        }
      ]
    },
    {
      "cell_type": "code",
      "source": [
        "tax_increase = 2.00\n",
        "new_data = x_train.copy()\n",
        "new_data['A1'] = new_data['A1'] + tax_increase\n",
        "predicted_gasoline_consumption = lm.predict(new_data)\n",
        "\n",
        "print(\"Predicted gasoline consumption with $2.00 tax increase: \")\n",
        "print(predicted_gasoline_consumption)"
      ],
      "metadata": {
        "colab": {
          "base_uri": "https://localhost:8080/"
        },
        "id": "_yidd4fqaVQ_",
        "outputId": "2eda1f31-a87b-4c5a-f440-1a6e0f145173"
      },
      "execution_count": 50,
      "outputs": [
        {
          "output_type": "stream",
          "name": "stdout",
          "text": [
            "Predicted gasoline consumption with $2.00 tax increase: \n",
            "[489.74703013 645.7043184  519.84356007 678.01275928 392.2103398\n",
            " 575.69229713 492.0247116  214.76269436 545.22022517 616.09492287\n",
            " 526.87892715 610.51014007 382.73531611 514.1632249  423.10571725\n",
            " 487.9923547  456.26538281 430.01342886 562.96395289 402.55996282\n",
            " 518.03986539 502.97963341 441.3031209  490.84089409 715.71787623\n",
            " 529.55035724 516.435699   433.24250161 667.90230107 449.49486557\n",
            " 369.54824939 584.41671324 429.48958353 469.38217002 568.01723135\n",
            " 491.93770994 625.85545185]\n"
          ]
        }
      ]
    },
    {
      "cell_type": "code",
      "source": [
        "# compare old and new predicted gasoline consumption values\n",
        "difference = predicted_gasoline_consumption - y_train\n",
        "#print('Difference in gasoline consumption (taxes increased by $2.00):')\n",
        "#print(difference)\n",
        "avg_difference = np.mean(difference)\n",
        "print(\"Average difference: %.2f\" % avg_difference)"
      ],
      "metadata": {
        "colab": {
          "base_uri": "https://localhost:8080/"
        },
        "id": "WvshNx00fnlG",
        "outputId": "72f884c4-dd4a-4b75-8f24-886c1bbd29a4"
      },
      "execution_count": 51,
      "outputs": [
        {
          "output_type": "stream",
          "name": "stdout",
          "text": [
            "Average difference: -75.98\n"
          ]
        }
      ]
    }
  ]
}