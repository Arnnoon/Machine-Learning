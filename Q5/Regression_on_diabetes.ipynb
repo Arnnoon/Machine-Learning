{
  "nbformat": 4,
  "nbformat_minor": 0,
  "metadata": {
    "colab": {
      "provenance": []
    },
    "kernelspec": {
      "name": "python3",
      "display_name": "Python 3"
    },
    "language_info": {
      "name": "python"
    }
  },
  "cells": [
    {
      "cell_type": "code",
      "execution_count": 10,
      "metadata": {
        "id": "9qRaNzMk4i-A",
        "colab": {
          "base_uri": "https://localhost:8080/"
        },
        "outputId": "ed413712-e85a-45fe-c4fd-04492ddffda7"
      },
      "outputs": [
        {
          "output_type": "stream",
          "name": "stdout",
          "text": [
            "Data description: \n",
            " .. _diabetes_dataset:\n",
            "\n",
            "Diabetes dataset\n",
            "----------------\n",
            "\n",
            "Ten baseline variables, age, sex, body mass index, average blood\n",
            "pressure, and six blood serum measurements were obtained for each of n =\n",
            "442 diabetes patients, as well as the response of interest, a\n",
            "quantitative measure of disease progression one year after baseline.\n",
            "\n",
            "**Data Set Characteristics:**\n",
            "\n",
            "  :Number of Instances: 442\n",
            "\n",
            "  :Number of Attributes: First 10 columns are numeric predictive values\n",
            "\n",
            "  :Target: Column 11 is a quantitative measure of disease progression one year after baseline\n",
            "\n",
            "  :Attribute Information:\n",
            "      - age     age in years\n",
            "      - sex\n",
            "      - bmi     body mass index\n",
            "      - bp      average blood pressure\n",
            "      - s1      tc, total serum cholesterol\n",
            "      - s2      ldl, low-density lipoproteins\n",
            "      - s3      hdl, high-density lipoproteins\n",
            "      - s4      tch, total cholesterol / HDL\n",
            "      - s5      ltg, possibly log of serum triglycerides level\n",
            "      - s6      glu, blood sugar level\n",
            "\n",
            "Note: Each of these 10 feature variables have been mean centered and scaled by the standard deviation times the square root of `n_samples` (i.e. the sum of squares of each column totals 1).\n",
            "\n",
            "Source URL:\n",
            "https://www4.stat.ncsu.edu/~boos/var.select/diabetes.html\n",
            "\n",
            "For more information see:\n",
            "Bradley Efron, Trevor Hastie, Iain Johnstone and Robert Tibshirani (2004) \"Least Angle Regression,\" Annals of Statistics (with discussion), 407-499.\n",
            "(https://web.stanford.edu/~hastie/Papers/LARS/LeastAngle_2002.pdf)\n",
            "\n"
          ]
        }
      ],
      "source": [
        "import matplotlib.pyplot as plt\n",
        "import numpy as np\n",
        "import math \n",
        "from sklearn import datasets, linear_model\n",
        "from sklearn.metrics import mean_squared_error, r2_score\n",
        "from sklearn.model_selection import train_test_split\n",
        "\n",
        "\n",
        "data_bunch = datasets.load_diabetes(return_X_y=False, as_frame=False)\n",
        "diabetes_X = data_bunch ['data']\n",
        "diabetes_label = data_bunch ['target']\n",
        "diabetes_age = diabetes_X[:, np.newaxis, 0]\n",
        "diabetes_bp = diabetes_X[:, np.newaxis, 3]\n",
        "diabetes_s4 = diabetes_X[:, np.newaxis, 7]\n",
        "diabetes_s6 = diabetes_X[:, np.newaxis, 9]\n",
        "print(\"Data description: \\n\", data_bunch['DESCR'])"
      ]
    },
    {
      "cell_type": "code",
      "source": [
        "# Create linear regression object\n",
        "regr = linear_model.LinearRegression()\n",
        "\n",
        "# Train the model using the training sets\n",
        "regr.fit(diabetes_age, diabetes_s4)\n",
        "diabetes_y_fitted = regr.predict(diabetes_age)\n",
        "\n",
        "print(\"R^2:\", regr.score(diabetes_age, diabetes_s4))"
      ],
      "metadata": {
        "colab": {
          "base_uri": "https://localhost:8080/"
        },
        "id": "amTMH6YM40Xo",
        "outputId": "37a2959f-5400-46a2-c3fd-2556c4367859"
      },
      "execution_count": 14,
      "outputs": [
        {
          "output_type": "stream",
          "name": "stdout",
          "text": [
            "R^2: 0.04155111240222842\n"
          ]
        }
      ]
    },
    {
      "cell_type": "code",
      "source": [
        "# Create linear regression object\n",
        "regr = linear_model.LinearRegression()\n",
        "\n",
        "# Train the model using the training sets\n",
        "regr.fit(diabetes_bp, diabetes_s4)\n",
        "diabetes_y_fitted = regr.predict(diabetes_bp)\n",
        "\n",
        "print(\"R^2:\", regr.score(diabetes_bp, diabetes_s4))"
      ],
      "metadata": {
        "colab": {
          "base_uri": "https://localhost:8080/"
        },
        "id": "whoTiWX98mZP",
        "outputId": "19cac5f0-076c-478d-a0f7-59321ef03b7f"
      },
      "execution_count": 15,
      "outputs": [
        {
          "output_type": "stream",
          "name": "stdout",
          "text": [
            "R^2: 0.06638354995699813\n"
          ]
        }
      ]
    },
    {
      "cell_type": "code",
      "source": [
        "# Split the data into training/testing sets\n",
        "diabetes_X_train = diabetes_s6[:-20]\n",
        "diabetes_X_test = diabetes_s6[-20:]\n",
        "\n",
        "# Split the data into training/testing sets\n",
        "diabetes_y_train = diabetes_label[:-20]\n",
        "diabetes_y_test = diabetes_label[-20:]\n",
        "\n",
        "regr = linear_model.LinearRegression()\n",
        "regr.fit(diabetes_X_train, diabetes_y_train)\n",
        "print(\"Score: \", regr.score(diabetes_X_train, diabetes_y_train))\n",
        "#score is the coefficient of determination\n",
        "#score is close to 1 if residual error total is 0. \n",
        "\n",
        "#ex. for y = mx+b, coef = [m], intercept = b. \n",
        "#ex. for y = ax^2 + b^x + c, coef = [a, b], intercept = c.\n",
        "print(\"Coefficients: \", regr.coef_)  \n",
        "print(\"Intercept: \", regr.intercept_)\n",
        "print(\"m = \", regr.coef_[0], \"b = \", regr.intercept_)\n",
        "print(\"R^2 = %.2f\" % regr.score(diabetes_X_train, diabetes_y_train))\n",
        "print(\"Predicted value for x = 3: \", regr.predict(np.array([[3]]))) \n",
        "\n",
        "diabetes_y_fitted = regr.predict(diabetes_X_test)\n",
        "print(\"R^2 = %.2f\" % r2_score(diabetes_y_test, diabetes_y_fitted))"
      ],
      "metadata": {
        "colab": {
          "base_uri": "https://localhost:8080/"
        },
        "id": "7tdulz8ITgTA",
        "outputId": "c6e7b343-525c-49b2-c271-80153605c09f"
      },
      "execution_count": 21,
      "outputs": [
        {
          "output_type": "stream",
          "name": "stdout",
          "text": [
            "Score:  0.15013340519940488\n",
            "Coefficients:  [630.53662695]\n",
            "Intercept:  153.65837014587217\n",
            "m =  630.5366269472346 b =  153.65837014587217\n",
            "R^2 = 0.15\n",
            "Predicted value for x = 3:  [2045.26825099]\n",
            "R^2 = -10621211.93\n"
          ]
        }
      ]
    },
    {
      "cell_type": "code",
      "source": [
        "diabetes_y_fitted = regr.predict(diabetes_X_test)\n",
        "print(\"R^2 = %.2f\" % r2_score(diabetes_y_test, diabetes_y_fitted))"
      ],
      "metadata": {
        "colab": {
          "base_uri": "https://localhost:8080/"
        },
        "id": "-BULRBea_hF9",
        "outputId": "a60e5f61-f013-4f5e-ce0e-84548610d7ca"
      },
      "execution_count": 25,
      "outputs": [
        {
          "output_type": "stream",
          "name": "stdout",
          "text": [
            "R^2 = -0.09\n"
          ]
        }
      ]
    },
    {
      "cell_type": "code",
      "source": [
        "# Plot training data\n",
        "plt.scatter(diabetes_X_train, diabetes_y_train, color='blue', label='Training Data')\n",
        "\n",
        "# Plot predicted data\n",
        "plt.scatter(diabetes_X_test, diabetes_y_fitted, color='green', label='Predicted Data')\n",
        "\n",
        "# Plot best fit line\n",
        "plt.plot(diabetes_X_test, diabetes_y_fitted, color='red', linewidth=2, label='Best Fit Line')\n",
        "\n",
        "plt.xlabel('blood sugar level')\n",
        "plt.ylabel('Target')\n",
        "plt.legend()\n",
        "plt.show()"
      ],
      "metadata": {
        "colab": {
          "base_uri": "https://localhost:8080/",
          "height": 279
        },
        "id": "RDGgAEIZTgSE",
        "outputId": "3fd1ba41-434d-4e6e-d6d2-2df156eed1d3"
      },
      "execution_count": 23,
      "outputs": [
        {
          "output_type": "display_data",
          "data": {
            "text/plain": [
              "<Figure size 432x288 with 1 Axes>"
            ],
            "image/png": "[encoded data removed]"
          },
          "metadata": {
            "needs_background": "light"
          }
        }
      ]
    }
  ]
}