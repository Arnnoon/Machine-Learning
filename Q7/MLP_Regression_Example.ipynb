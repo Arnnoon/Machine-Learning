{
  "cells": [
    {
      "cell_type": "code",
      "execution_count": 11,
      "id": "e8ddf4ed",
      "metadata": {
        "id": "e8ddf4ed"
      },
      "outputs": [],
      "source": [
        "#copied from https://towardsdatascience.com/deep-neural-multilayer-perceptron-mlp-with-scikit-learn-2698e77155e\n",
        "from sklearn.neural_network import MLPRegressor\n",
        "from sklearn.model_selection import train_test_split\n",
        "from sklearn.datasets import load_diabetes\n",
        "from sklearn.preprocessing import StandardScaler\n",
        "from sklearn.metrics import r2_score"
      ]
    },
    {
      "cell_type": "code",
      "source": [
        "# Load diabetes data\n",
        "diabetes_data = load_diabetes()\n",
        "X = diabetes_data.data\n",
        "y = diabetes_data.target\n",
        "\n",
        "# Split test and train data\n",
        "X_train, X_test, y_train, y_test = train_test_split(X, y, test_size=0.25)"
      ],
      "metadata": {
        "id": "QwKn6gREoUMP"
      },
      "id": "QwKn6gREoUMP",
      "execution_count": 12,
      "outputs": []
    },
    {
      "cell_type": "code",
      "source": [
        "# Scale the data\n",
        "scaler = StandardScaler()\n",
        "X_train_scaled = scaler.fit_transform(X_train)\n",
        "X_test_scaled = scaler.transform(X_test)"
      ],
      "metadata": {
        "id": "ES_GCdUzofCg"
      },
      "id": "ES_GCdUzofCg",
      "execution_count": 13,
      "outputs": []
    },
    {
      "cell_type": "code",
      "source": [
        "# Train the model\n",
        "reg = MLPRegressor(hidden_layer_sizes=(64, 64, 64), activation=\"relu\", random_state=1, max_iter=2000).fit(X_train_scaled, y_train)"
      ],
      "metadata": {
        "id": "n96kelfUotnA"
      },
      "id": "n96kelfUotnA",
      "execution_count": 14,
      "outputs": []
    },
    {
      "cell_type": "code",
      "source": [
        "# Make predictions on the test set\n",
        "y_pred = reg.predict(X_test_scaled)\n",
        "\n",
        "# Calculate R-square\n",
        "r_square = r2_score(y_test, y_pred)\n",
        "print(\"R-square: \", r_square)"
      ],
      "metadata": {
        "colab": {
          "base_uri": "https://localhost:8080/"
        },
        "id": "bOWwo64mppPf",
        "outputId": "343ab701-a4c4-4931-acc1-5de62da1b5ef"
      },
      "id": "bOWwo64mppPf",
      "execution_count": 15,
      "outputs": [
        {
          "output_type": "stream",
          "name": "stdout",
          "text": [
            "R-square:  -0.4734419053861074\n"
          ]
        }
      ]
    }
  ],
  "metadata": {
    "kernelspec": {
      "display_name": "Python 3 (ipykernel)",
      "language": "python",
      "name": "python3"
    },
    "language_info": {
      "codemirror_mode": {
        "name": "ipython",
        "version": 3
      },
      "file_extension": ".py",
      "mimetype": "text/x-python",
      "name": "python",
      "nbconvert_exporter": "python",
      "pygments_lexer": "ipython3",
      "version": "3.9.10"
    },
    "colab": {
      "provenance": []
    }
  },
  "nbformat": 4,
  "nbformat_minor": 5
}