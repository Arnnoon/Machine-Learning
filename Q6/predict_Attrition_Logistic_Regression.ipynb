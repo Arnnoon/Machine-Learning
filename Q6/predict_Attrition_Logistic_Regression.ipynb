{
  "nbformat": 4,
  "nbformat_minor": 0,
  "metadata": {
    "colab": {
      "provenance": []
    },
    "kernelspec": {
      "name": "python3",
      "display_name": "Python 3"
    },
    "language_info": {
      "name": "python"
    }
  },
  "cells": [
    {
      "cell_type": "code",
      "execution_count": null,
      "metadata": {
        "id": "NTVwGR_702rL"
      },
      "outputs": [],
      "source": [
        "import pandas as pd\n",
        "from sklearn.preprocessing import StandardScaler\n",
        "from sklearn.preprocessing import LabelEncoder\n",
        "from sklearn.model_selection import train_test_split\n",
        "from sklearn.linear_model import LogisticRegression\n",
        "from sklearn.metrics import confusion_matrix"
      ]
    },
    {
      "cell_type": "code",
      "source": [
        "# Read the CSV file\n",
        "Employee_Attrition = pd.read_csv(\"WA_Fn-UseC_-HR-Employee-Attrition.csv\")\n",
        "\n",
        "# Drop NA\n",
        "Employee_Attrition.dropna(inplace=True)\n",
        "\n",
        "# Extract label\n",
        "label = Employee_Attrition['Attrition']\n",
        "Employee_Attrition = Employee_Attrition.drop(['Attrition'], axis=1)\n",
        "\n",
        "# convert string data to unique integer\n",
        "le = LabelEncoder()\n",
        "Employee_Attrition['BusinessTravel'] = le.fit_transform(Employee_Attrition['BusinessTravel'])\n",
        "Employee_Attrition['Department'] = le.fit_transform(Employee_Attrition['Department'])\n",
        "Employee_Attrition['EducationField'] = le.fit_transform(Employee_Attrition['EducationField'])\n",
        "Employee_Attrition['Gender'] = le.fit_transform(Employee_Attrition['Gender'])\n",
        "Employee_Attrition['JobRole'] = le.fit_transform(Employee_Attrition['JobRole'])\n",
        "Employee_Attrition['MaritalStatus'] = le.fit_transform(Employee_Attrition['MaritalStatus'])\n",
        "Employee_Attrition['Over18'] = le.fit_transform(Employee_Attrition['Over18'])\n",
        "Employee_Attrition['OverTime'] = le.fit_transform(Employee_Attrition['OverTime'])\n",
        "print(Employee_Attrition.dtypes)\n",
        "\n",
        "# Standardize the data\n",
        "scaler = StandardScaler()\n",
        "Employee_Attrition_scaled = scaler.fit_transform(Employee_Attrition)\n",
        "\n",
        "# Convert standardized data to pandas dataframe\n",
        "Spotify_Youtube = pd.DataFrame(Employee_Attrition_scaled, columns=Employee_Attrition.columns)"
      ],
      "metadata": {
        "colab": {
          "base_uri": "https://localhost:8080/"
        },
        "id": "uRqKmiXw1Ctb",
        "outputId": "e989be8b-d43e-40ce-fb32-ce0b762da331"
      },
      "execution_count": null,
      "outputs": [
        {
          "output_type": "stream",
          "name": "stdout",
          "text": [
            "Age                         int64\n",
            "BusinessTravel              int64\n",
            "DailyRate                   int64\n",
            "Department                  int64\n",
            "DistanceFromHome            int64\n",
            "Education                   int64\n",
            "EducationField              int64\n",
            "EmployeeCount               int64\n",
            "EmployeeNumber              int64\n",
            "EnvironmentSatisfaction     int64\n",
            "Gender                      int64\n",
            "HourlyRate                  int64\n",
            "JobInvolvement              int64\n",
            "JobLevel                    int64\n",
            "JobRole                     int64\n",
            "JobSatisfaction             int64\n",
            "MaritalStatus               int64\n",
            "MonthlyIncome               int64\n",
            "MonthlyRate                 int64\n",
            "NumCompaniesWorked          int64\n",
            "Over18                      int64\n",
            "OverTime                    int64\n",
            "PercentSalaryHike           int64\n",
            "PerformanceRating           int64\n",
            "RelationshipSatisfaction    int64\n",
            "StandardHours               int64\n",
            "StockOptionLevel            int64\n",
            "TotalWorkingYears           int64\n",
            "TrainingTimesLastYear       int64\n",
            "WorkLifeBalance             int64\n",
            "YearsAtCompany              int64\n",
            "YearsInCurrentRole          int64\n",
            "YearsSinceLastPromotion     int64\n",
            "YearsWithCurrManager        int64\n",
            "dtype: object\n"
          ]
        }
      ]
    },
    {
      "cell_type": "code",
      "source": [
        "# split test and train\n",
        "X_train, X_test, y_train, y_test = train_test_split(Employee_Attrition, label, test_size=0.2)\n",
        "\n",
        "# create the model\n",
        "model = LogisticRegression(max_iter=10000)\n",
        "model.fit(X_train, y_train)\n",
        "y_pred = model.predict(X_test)\n",
        "\n",
        "# show accuracy and confusion_matrix\n",
        "print(\"accuracy: \", model.score(X_test, y_test))\n",
        "print(\"Confusion Matrix:\\n\", confusion_matrix(y_test, y_pred))"
      ],
      "metadata": {
        "colab": {
          "base_uri": "https://localhost:8080/"
        },
        "id": "3Te2Fdl22tVT",
        "outputId": "069a6e68-0322-4534-9e2b-6cffd245dbc9"
      },
      "execution_count": null,
      "outputs": [
        {
          "output_type": "stream",
          "name": "stdout",
          "text": [
            "accuracy:  0.8673469387755102\n",
            "Confusion Matrix:\n",
            " [[239  11]\n",
            " [ 28  16]]\n"
          ]
        }
      ]
    }
  ]
}