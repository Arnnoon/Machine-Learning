{
  "nbformat": 4,
  "nbformat_minor": 0,
  "metadata": {
    "colab": {
      "provenance": []
    },
    "kernelspec": {
      "name": "python3",
      "display_name": "Python 3"
    },
    "language_info": {
      "name": "python"
    }
  },
  "cells": [
    {
      "cell_type": "code",
      "execution_count": 9,
      "metadata": {
        "id": "e8ddf4ed"
      },
      "outputs": [],
      "source": [
        "import numpy as np\n",
        "import matplotlib as plt\n",
        "import math\n",
        "from scipy.optimize import minimize\n",
        "from sklearn.metrics import confusion_matrix"
      ]
    },
    {
      "cell_type": "code",
      "source": [
        "from sklearn.datasets import load_iris\n",
        "X, y = load_iris(return_X_y=True)\n",
        "print (\"5 samples Iris data X = \\n\", X[:5][:])\n",
        "print (\"All Iris data y = \\n\", y)"
      ],
      "metadata": {
        "colab": {
          "base_uri": "https://localhost:8080/"
        },
        "id": "A0aW6_BzN6nw",
        "outputId": "d4fa149c-9373-43e5-9c88-a13e9dcb19c7"
      },
      "execution_count": 2,
      "outputs": [
        {
          "output_type": "stream",
          "name": "stdout",
          "text": [
            "5 samples Iris data X = \n",
            " [[5.1 3.5 1.4 0.2]\n",
            " [4.9 3.  1.4 0.2]\n",
            " [4.7 3.2 1.3 0.2]\n",
            " [4.6 3.1 1.5 0.2]\n",
            " [5.  3.6 1.4 0.2]]\n",
            "All Iris data y = \n",
            " [0 0 0 0 0 0 0 0 0 0 0 0 0 0 0 0 0 0 0 0 0 0 0 0 0 0 0 0 0 0 0 0 0 0 0 0 0\n",
            " 0 0 0 0 0 0 0 0 0 0 0 0 0 1 1 1 1 1 1 1 1 1 1 1 1 1 1 1 1 1 1 1 1 1 1 1 1\n",
            " 1 1 1 1 1 1 1 1 1 1 1 1 1 1 1 1 1 1 1 1 1 1 1 1 1 1 2 2 2 2 2 2 2 2 2 2 2\n",
            " 2 2 2 2 2 2 2 2 2 2 2 2 2 2 2 2 2 2 2 2 2 2 2 2 2 2 2 2 2 2 2 2 2 2 2 2 2\n",
            " 2 2]\n"
          ]
        }
      ]
    },
    {
      "cell_type": "code",
      "source": [
        "from sklearn.model_selection import train_test_split\n",
        "#Use sklearn's library to split the data into training and testing sets with ratio 75% to 25%. \n",
        "X_train, X_test, y_train, y_test = train_test_split(X,y, test_size=0.25, random_state=0)"
      ],
      "metadata": {
        "id": "AY8CTY7oPUDq"
      },
      "execution_count": 3,
      "outputs": []
    },
    {
      "cell_type": "markdown",
      "source": [
        "**First, let's do Logistic Regression using sklearn library call**"
      ],
      "metadata": {
        "id": "536e83EY0yBi"
      }
    },
    {
      "cell_type": "code",
      "source": [
        "from sklearn.linear_model import LogisticRegression\n",
        "logistic_regressor = LogisticRegression(max_iter = 500)  \n",
        "# The default constructor is: \n",
        "# LogisticRegression(C=1.0, class_weight=None, dual=False, fit_intercept=True,\n",
        "#       intercept_scaling=1, max_iter=100, multi_class='ovr', n_jobs=1,\n",
        "#       penalty='l2', random_state=None, solver='lbfgs', tol=0.0001,\n",
        "#       verbose=0, warm_start=False)"
      ],
      "metadata": {
        "id": "Kc_hr6FbPoC0"
      },
      "execution_count": 4,
      "outputs": []
    },
    {
      "cell_type": "code",
      "source": [
        "#X is n rows of data points by 4 columns of features \n",
        "fit_class = logistic_regressor.fit(X_train, y_train)\n",
        "y_predict = fit_class.predict(X_test)\n",
        "print(\"Predicted output of all test data: \\n\", y_predict)\n",
        "print(\"Target output of all test data: \\n\", y_test)\n",
        "print(\"Correctly matched index of test class and predicted class: \\n\", y_test == y_predict)\n",
        "fit_score = 100*fit_class.score(X_test, y_test)\n",
        "print(\"Fitting score Percent: %5.1f%%\" %fit_score)"
      ],
      "metadata": {
        "colab": {
          "base_uri": "https://localhost:8080/"
        },
        "id": "SpA3HUirOciX",
        "outputId": "b3c3f5bf-f4d7-40a4-a337-418e6d0e678d"
      },
      "execution_count": 5,
      "outputs": [
        {
          "output_type": "stream",
          "name": "stdout",
          "text": [
            "Predicted output of all test data: \n",
            " [2 1 0 2 0 2 0 1 1 1 2 1 1 1 1 0 1 1 0 0 2 1 0 0 2 0 0 1 1 0 2 1 0 2 2 1 0\n",
            " 2]\n",
            "Target output of all test data: \n",
            " [2 1 0 2 0 2 0 1 1 1 2 1 1 1 1 0 1 1 0 0 2 1 0 0 2 0 0 1 1 0 2 1 0 2 2 1 0\n",
            " 1]\n",
            "Correctly matched index of test class and predicted class: \n",
            " [ True  True  True  True  True  True  True  True  True  True  True  True\n",
            "  True  True  True  True  True  True  True  True  True  True  True  True\n",
            "  True  True  True  True  True  True  True  True  True  True  True  True\n",
            "  True False]\n",
            "Fitting score Percent:  97.4%\n"
          ]
        }
      ]
    },
    {
      "cell_type": "code",
      "source": [
        "#Let's see what the prediction probability was for each class (0, 1, or 2) for the test cases\n",
        "y_test_prob = fit_class.predict_proba(X_test)\n",
        "print(\"Prediction probability for test data P[0], P[1], P[2]: \\n\", y_test_prob)"
      ],
      "metadata": {
        "colab": {
          "base_uri": "https://localhost:8080/"
        },
        "id": "MW9ucnMVRNbf",
        "outputId": "2decec95-54ea-45e9-8783-5368e2c73e48"
      },
      "execution_count": 6,
      "outputs": [
        {
          "output_type": "stream",
          "name": "stdout",
          "text": [
            "Prediction probability for test data P[0], P[1], P[2]: \n",
            " [[1.16900386e-04 5.59225152e-02 9.43960584e-01]\n",
            " [1.26288137e-02 9.60287648e-01 2.70835381e-02]\n",
            " [9.84401717e-01 1.55982438e-02 3.88276529e-08]\n",
            " [1.25769682e-06 2.34493077e-02 9.76549435e-01]\n",
            " [9.70291296e-01 2.97085396e-02 1.64479712e-07]\n",
            " [2.01021740e-06 5.98107308e-03 9.94016917e-01]\n",
            " [9.81946364e-01 1.80535652e-02 7.13021266e-08]\n",
            " [2.83382591e-03 7.47753711e-01 2.49412463e-01]\n",
            " [1.50576867e-03 7.39123010e-01 2.59371221e-01]\n",
            " [2.04958362e-02 9.35760489e-01 4.37436752e-02]\n",
            " [9.19401453e-05 1.60147786e-01 8.39760274e-01]\n",
            " [6.95964145e-03 8.10293474e-01 1.82746884e-01]\n",
            " [4.06401090e-03 7.93858710e-01 2.02077279e-01]\n",
            " [3.04873329e-03 7.60949363e-01 2.36001904e-01]\n",
            " [3.85960375e-03 7.10476370e-01 2.85664026e-01]\n",
            " [9.82833998e-01 1.71659449e-02 5.71902002e-08]\n",
            " [6.70065900e-03 7.56237486e-01 2.37061855e-01]\n",
            " [1.13767400e-02 8.44693606e-01 1.43929654e-01]\n",
            " [9.67701510e-01 3.22982725e-02 2.17328720e-07]\n",
            " [9.82908465e-01 1.70914743e-02 6.02432993e-08]\n",
            " [8.27696796e-04 1.92680263e-01 8.06492040e-01]\n",
            " [1.02655806e-02 7.10798847e-01 2.78935572e-01]\n",
            " [9.44112333e-01 5.58866063e-02 1.06059619e-06]\n",
            " [9.75570680e-01 2.44291499e-02 1.70284403e-07]\n",
            " [1.36305337e-03 4.26061305e-01 5.72575641e-01]\n",
            " [9.94216818e-01 5.78317196e-03 9.79259083e-09]\n",
            " [9.50201620e-01 4.97972363e-02 1.14343618e-06]\n",
            " [1.06799978e-02 9.00955018e-01 8.83649847e-02]\n",
            " [1.40917017e-01 8.52757628e-01 6.32535564e-03]\n",
            " [9.61564105e-01 3.84354397e-02 4.54981359e-07]\n",
            " [9.88617507e-05 1.16272718e-01 8.83628420e-01]\n",
            " [1.19087663e-02 6.83870806e-01 3.04220428e-01]\n",
            " [9.68121255e-01 3.18785937e-02 1.51674487e-07]\n",
            " [1.27894303e-03 3.57883218e-01 6.40837839e-01]\n",
            " [1.48290452e-05 3.39014616e-02 9.66083709e-01]\n",
            " [4.79808345e-02 8.80304404e-01 7.17147619e-02]\n",
            " [9.44699213e-01 5.53003935e-02 3.93677301e-07]\n",
            " [5.99605963e-04 3.11186899e-01 6.88213495e-01]]\n"
          ]
        }
      ]
    },
    {
      "cell_type": "code",
      "source": [
        "#Let's reprint above with d decimal places\n",
        "d = 1\n",
        "np.set_printoptions(precision=d,suppress=True) #print with d decimal places and suppress scientific notation\n",
        "print(\"Prediction probability for 5 rows of data P[0], P[1], P[2]: \\n\", y_test_prob)"
      ],
      "metadata": {
        "colab": {
          "base_uri": "https://localhost:8080/"
        },
        "id": "kgpiVcg5VdeD",
        "outputId": "d62e100d-38de-43ab-eaec-667bae87193a"
      },
      "execution_count": 7,
      "outputs": [
        {
          "output_type": "stream",
          "name": "stdout",
          "text": [
            "Prediction probability for 5 rows of data P[0], P[1], P[2]: \n",
            " [[0.  0.1 0.9]\n",
            " [0.  1.  0. ]\n",
            " [1.  0.  0. ]\n",
            " [0.  0.  1. ]\n",
            " [1.  0.  0. ]\n",
            " [0.  0.  1. ]\n",
            " [1.  0.  0. ]\n",
            " [0.  0.7 0.2]\n",
            " [0.  0.7 0.3]\n",
            " [0.  0.9 0. ]\n",
            " [0.  0.2 0.8]\n",
            " [0.  0.8 0.2]\n",
            " [0.  0.8 0.2]\n",
            " [0.  0.8 0.2]\n",
            " [0.  0.7 0.3]\n",
            " [1.  0.  0. ]\n",
            " [0.  0.8 0.2]\n",
            " [0.  0.8 0.1]\n",
            " [1.  0.  0. ]\n",
            " [1.  0.  0. ]\n",
            " [0.  0.2 0.8]\n",
            " [0.  0.7 0.3]\n",
            " [0.9 0.1 0. ]\n",
            " [1.  0.  0. ]\n",
            " [0.  0.4 0.6]\n",
            " [1.  0.  0. ]\n",
            " [1.  0.  0. ]\n",
            " [0.  0.9 0.1]\n",
            " [0.1 0.9 0. ]\n",
            " [1.  0.  0. ]\n",
            " [0.  0.1 0.9]\n",
            " [0.  0.7 0.3]\n",
            " [1.  0.  0. ]\n",
            " [0.  0.4 0.6]\n",
            " [0.  0.  1. ]\n",
            " [0.  0.9 0.1]\n",
            " [0.9 0.1 0. ]\n",
            " [0.  0.3 0.7]]\n"
          ]
        }
      ]
    },
    {
      "cell_type": "code",
      "source": [
        "print(confusion_matrix(y_test, y_predict))"
      ],
      "metadata": {
        "id": "9vz4GsjEfAfW",
        "outputId": "222e4a06-f557-49ce-8f03-f75b010d4dcb",
        "colab": {
          "base_uri": "https://localhost:8080/"
        }
      },
      "execution_count": 10,
      "outputs": [
        {
          "output_type": "execute_result",
          "data": {
            "text/plain": [
              "array([[13,  0,  0],\n",
              "       [ 0, 15,  1],\n",
              "       [ 0,  0,  9]])"
            ]
          },
          "metadata": {},
          "execution_count": 10
        }
      ]
    }
  ]
}