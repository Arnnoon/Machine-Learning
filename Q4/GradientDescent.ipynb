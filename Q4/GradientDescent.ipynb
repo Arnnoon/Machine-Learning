{
  "nbformat": 4,
  "nbformat_minor": 0,
  "metadata": {
    "colab": {
      "provenance": []
    },
    "kernelspec": {
      "name": "python3",
      "display_name": "Python 3"
    },
    "language_info": {
      "name": "python"
    }
  },
  "cells": [
    {
      "cell_type": "code",
      "execution_count": 77,
      "metadata": {
        "colab": {
          "base_uri": "https://localhost:8080/"
        },
        "id": "I4POOQNvwUkY",
        "outputId": "6b502168-4a9e-4e4f-f357-2cc6a4abcf9b"
      },
      "outputs": [
        {
          "output_type": "stream",
          "name": "stdout",
          "text": [
            "Best fit:\n",
            "a = -0.5323787669024789\n",
            "b = -0.3723604755411621\n",
            "c = -0.2721374435726162\n",
            "d = -0.22204366850628332\n"
          ]
        }
      ],
      "source": [
        "import numpy as np\n",
        "\n",
        "def E(a, b, c, d, x, y):\n",
        "    sum = 0.\n",
        "    for i in range(x.size):\n",
        "        sum += (y[i] - (a * x[i]**3 + b * x[i]**2 + c * x[i] + d))**2\n",
        "        return sum\n",
        "\n",
        "X = np.array([-6, -5, -4, -3, -2, -1, 0, 1, 2, 3, 4, 5, 6])\n",
        "Y = np.array([103, 87, 67, 46, 26, 11, 4, 7, 23, 57, 110, 185, 286])\n",
        "\n",
        "m = len(X)\n",
        "\n",
        "alpha = 0.00001\n",
        "\n",
        "a = 0\n",
        "b = 0\n",
        "c = 0\n",
        "d = 0\n",
        "\n",
        "num_iter = 500000\n",
        "\n",
        "for i in range(num_iter):\n",
        "    y_pred = a*X**3 + b*X**2 + c*X + d\n",
        "    \n",
        "    J = (1/(2*m)) * np.sum((y_pred - Y)**2)\n",
        "    \n",
        "    da = (1/m) * np.sum((y_pred - Y) * X**3)\n",
        "    db = (1/m) * np.sum((y_pred - Y) * X**2)\n",
        "    dc = (1/m) * np.sum((y_pred - Y) * X)\n",
        "    dd = (1/m) * np.sum(y_pred - Y)\n",
        "    \n",
        "    a = a - alpha * da\n",
        "    b = b - alpha * db\n",
        "    c = c - alpha * dc\n",
        "    d = d - alpha * dd\n",
        "\n",
        "print(\"Final values of a, b, c, and d:\")\n",
        "print(\"a =\", a)\n",
        "print(\"b =\", b)\n",
        "print(\"c =\", c)\n",
        "print(\"d =\", d)\n"
      ]
    },
    {
      "cell_type": "code",
      "source": [
        "import numpy as np\n",
        "\n",
        "def E(a, b, c, d, x, y):\n",
        "    sum = 0.\n",
        "    for i in range(x.size):\n",
        "        sum += (y[i] - (a * x[i]**3 + b * x[i]**2 + c * x[i] + d))**2\n",
        "        return sum\n",
        "\n",
        "def numerical_gradient(a, b, c, d, x, y, h):\n",
        "    grad_a = (E(a + h, b, c, d, x, y) - E(a - h, b, c, d, x, y)) / (2 * h)\n",
        "    grad_b = (E(a, b + h, c, d, x, y) - E(a, b - h, c, d, x, y)) / (2 * h)\n",
        "    grad_c = (E(a, b, c + h, d, x, y) - E(a, b, c - h, d, x, y)) / (2 * h)\n",
        "    grad_d = (E(a, b, c, d + h, x, y) - E(a, b, c, d - h, x, y)) / (2 * h)\n",
        "    return grad_a, grad_b, grad_c, grad_d\n",
        "\n",
        "x = np.array([-6, -5, -4, -3, -2, -1, 0, 1, 2, 3, 4, 5, 6])\n",
        "y = np.array([103, 87, 67, 46, 26, 11, 4, 7, 23, 57, 110, 185, 286])\n",
        "\n",
        "a, b, c, d = np.random.random(4) - 0.5\n",
        "\n",
        "step_size = 0.00001\n",
        "threshold = 0.000001\n",
        "max_iterations = 1000000\n",
        "h = 0.000001\n",
        "\n",
        "for i in range(max_iterations):\n",
        "    grad = numerical_gradient(a, b, c, d, x, y, h)\n",
        "    a -= step_size * grad[0]\n",
        "    b -= step_size * grad[1]\n",
        "    c -= step_size * grad[2]\n",
        "    d -= step_size * grad[3]\n",
        "    E_now = E(a, b, c, d, x, y)\n",
        "    if E_now < threshold:\n",
        "        break\n",
        "\n",
        "print(\"Best fit:\")\n",
        "print(\"a =\", a)\n",
        "print(\"b =\", b)\n",
        "print(\"c =\", c)\n",
        "print(\"d =\", d)\n"
      ],
      "metadata": {
        "colab": {
          "base_uri": "https://localhost:8080/"
        },
        "id": "n69A2tJigwv3",
        "outputId": "27a1969f-0dd8-4809-9f15-90e0a6d25802"
      },
      "execution_count": 81,
      "outputs": [
        {
          "output_type": "stream",
          "name": "stdout",
          "text": [
            "Best fit:\n",
            "a = -0.38500906349213526\n",
            "b = 0.5884027207305087\n",
            "c = 0.1565816589616667\n",
            "d = -0.4052749373464046\n"
          ]
        }
      ]
    },
    {
      "cell_type": "code",
      "source": [
        "import numpy as np\n",
        "\n",
        "def find_best_fit(x, y):\n",
        "    ones = np.ones(len(x))\n",
        "    X = np.vstack([x**3, x**2, x, ones]).T\n",
        "    X_pinv = np.linalg.pinv(X)\n",
        "    a, b, c, d = np.dot(X_pinv, y)\n",
        "    return a, b, c, d\n",
        "\n",
        "# Example usage:\n",
        "x = np.array([-6, -5, -4, -3, -2, -1, 0, 1, 2, 3, 4, 5, 6])\n",
        "y = np.array([103, 87, 67, 46, 26, 11, 4, 7, 23, 57, 110, 185, 286])\n",
        "\n",
        "a, b, c, d = find_best_fit(x, y)\n",
        "print(\"Best fit:\")\n",
        "print(\"a =\", a)\n",
        "print(\"b =\", b)\n",
        "print(\"c =\", c)\n",
        "print(\"d =\", d)"
      ],
      "metadata": {
        "colab": {
          "base_uri": "https://localhost:8080/"
        },
        "id": "pugS3sFP1IKX",
        "outputId": "95d4cf98-b964-4b4e-82fd-1170500daebd"
      },
      "execution_count": 62,
      "outputs": [
        {
          "output_type": "stream",
          "name": "stdout",
          "text": [
            "Best fit:\n",
            "a = 0.49650349650349607\n",
            "b = 5.299200799200799\n",
            "c = -2.61588411588411\n",
            "d = 3.657342657342658\n"
          ]
        }
      ]
    },
    {
      "cell_type": "code",
      "source": [
        "import numpy as np\n",
        "\n",
        "def f(x, a, b, c, d):\n",
        "    return a * x**3 + b * x**2 + c * x + d\n",
        "\n",
        "def find_best_fit(x, y, a=1, b=1, c=1, d=1, max_iter=100, tol=1e-6):\n",
        "    for i in range(max_iter):\n",
        "        J = np.column_stack([x**3, x**2, x, np.ones_like(x)])\n",
        "        r = y - f(x, a, b, c, d)\n",
        "        delta = np.linalg.inv(J.T @ J) @ J.T @ r\n",
        "        a, b, c, d = a + delta[0], b + delta[1], c + delta[2], d + delta[3]\n",
        "        if np.abs(delta).max() < tol:\n",
        "            break\n",
        "    return a, b, c, d\n",
        "\n",
        "# Example usage:\n",
        "x = np.array([-6, -5, -4, -3, -2, -1, 0, 1, 2, 3, 4, 5, 6])\n",
        "y = np.array([103, 87, 67, 46, 26, 11, 4, 7, 23, 57, 110, 185, 286])\n",
        "\n",
        "a, b, c, d = find_best_fit(x, y)\n",
        "\n",
        "print(\"Best fit:\")\n",
        "print(\"a =\", a)\n",
        "print(\"b =\", b)\n",
        "print(\"c =\", c)\n",
        "print(\"d =\", d)"
      ],
      "metadata": {
        "colab": {
          "base_uri": "https://localhost:8080/"
        },
        "id": "MIucWGDwVosv",
        "outputId": "4d22dc49-32c5-4766-e262-115689f95967"
      },
      "execution_count": 61,
      "outputs": [
        {
          "output_type": "stream",
          "name": "stdout",
          "text": [
            "Best fit:\n",
            "a = 0.49650349650349646\n",
            "b = 5.2992007992008\n",
            "c = -2.6158841158841155\n",
            "d = 3.6573426573426575\n"
          ]
        }
      ]
    }
  ]
}