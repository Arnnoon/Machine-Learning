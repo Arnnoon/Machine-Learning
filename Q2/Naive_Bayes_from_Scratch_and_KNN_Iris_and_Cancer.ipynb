{
  "cells": [
    {
      "cell_type": "code",
      "source": [
        "import numpy as np\n",
        "import math\n",
        "from sklearn.datasets import load_iris\n",
        "from sklearn.model_selection import train_test_split\n",
        "\n",
        "the_data = load_iris()"
      ],
      "metadata": {
        "id": "Hlo1UFkh-6uK"
      },
      "id": "Hlo1UFkh-6uK",
      "execution_count": 1,
      "outputs": []
    },
    {
      "cell_type": "code",
      "source": [
        "label_names = the_data['target_names']\n",
        "feature_names = the_data['feature_names']\n",
        "all_labels = the_data['target']\n",
        "all_features = the_data['data']"
      ],
      "metadata": {
        "id": "IQxbdweqhTVI"
      },
      "id": "IQxbdweqhTVI",
      "execution_count": 2,
      "outputs": []
    },
    {
      "cell_type": "code",
      "execution_count": 3,
      "id": "0b59906e",
      "metadata": {
        "id": "0b59906e"
      },
      "outputs": [],
      "source": [
        "#see https://scikit-learn.org/stable/modules/generated/sklearn.model_selection.train_test_split.html\n",
        "from sklearn.model_selection import train_test_split\n",
        "# Spliting our dataset into 2 parts for training and testing\n",
        "training_features, testing_features, training_labels, testing_labels = train_test_split(all_features,all_labels,test_size=0.2,random_state=0)"
      ]
    },
    {
      "cell_type": "code",
      "source": [
        "num_Label = len(label_names)\n",
        "num_feature = len(feature_names)\n",
        "\n",
        "mean = np.zeros((num_Label, num_feature)) \n",
        "std = np.zeros((num_Label, num_feature))\n",
        "\n",
        "for k in range(num_Label):\n",
        "  for i in range(num_feature):\n",
        "    mean[k, i] = np.mean(training_features[np.where(training_labels == k), i])\n",
        "    std[k, i] = np.std(training_features[np.where(training_labels == k), i])\n",
        "\n",
        "# print(mean, \"\\n\\n\", std)\n",
        "\n",
        "pdfs = np.zeros((num_Label, len(testing_features)))\n",
        "\n",
        "for i in range(testing_features.shape[0]):\n",
        "  for k in range(num_Label):\n",
        "    pdf = 1.0\n",
        "    for j in range(num_feature):\n",
        "      # Calculate the probability of each test data matching each label\n",
        "      pdf *= (1/(math.sqrt(2*math.pi)*std[k, j])) * math.exp(-(testing_features[i, j] - mean[k, j])**2/(2*(std[k, j]**2)))\n",
        "    pdfs[k, i] = pdf\n",
        "\n",
        "# print(pdfs)"
      ],
      "metadata": {
        "id": "yl_34JQ7-9Iv"
      },
      "id": "yl_34JQ7-9Iv",
      "execution_count": 16,
      "outputs": []
    },
    {
      "cell_type": "code",
      "source": [
        "# Classify the testing data\n",
        "my_predicted_labels = np.zeros(len(testing_labels))\n",
        "\n",
        "for i in range(len(testing_labels)):\n",
        "    max_index = np.argmax(pdfs[:, i])\n",
        "    my_predicted_labels[i] = max_index\n",
        "\n",
        "print(my_predicted_labels)"
      ],
      "metadata": {
        "colab": {
          "base_uri": "https://localhost:8080/"
        },
        "id": "9LF6oOfth3nO",
        "outputId": "40c92ca0-eec4-43b1-aa39-462f068e8190"
      },
      "id": "9LF6oOfth3nO",
      "execution_count": 17,
      "outputs": [
        {
          "output_type": "stream",
          "name": "stdout",
          "text": [
            "[2. 1. 0. 2. 0. 2. 0. 1. 1. 1. 1. 1. 1. 1. 1. 0. 1. 1. 0. 0. 2. 1. 0. 0.\n",
            " 2. 0. 0. 1. 1. 0.]\n"
          ]
        }
      ]
    },
    {
      "cell_type": "code",
      "source": [
        "true_positive = 0\n",
        "for i in range(len(testing_labels)):\n",
        "  if testing_labels[i] == my_predicted_labels[i]:\n",
        "    true_positive += 1\n",
        "\n",
        "my_predict_accuracy = true_positive / len(testing_labels)\n",
        "print(\"My predict accuracy\", my_predict_accuracy)"
      ],
      "metadata": {
        "colab": {
          "base_uri": "https://localhost:8080/"
        },
        "id": "0RZNvVPljbTA",
        "outputId": "e3354e79-f792-40d9-da3d-910c5cb736be"
      },
      "id": "0RZNvVPljbTA",
      "execution_count": 18,
      "outputs": [
        {
          "output_type": "stream",
          "name": "stdout",
          "text": [
            "My predict accuracy 0.9666666666666667\n"
          ]
        }
      ]
    },
    {
      "cell_type": "code",
      "source": [
        "# Training our Classifier\n",
        "from sklearn.naive_bayes import GaussianNB\n",
        "classifier = GaussianNB() #classifier is now an object of the Gaussian Naive Bayes class\n",
        "model = classifier.fit(training_features,training_labels)  \n",
        "predicted_labels = model.predict(testing_features) #use the model obtained in previous step to predict labels for testing features\n",
        "\n",
        "true_positive = 0\n",
        "for i in range(len(testing_labels)):\n",
        "  if testing_labels[i] == predicted_labels[i]:\n",
        "    true_positive += 1\n",
        "\n",
        "GaussianNB_predict_accuracy = true_positive / len(testing_labels)\n",
        "print(\"GaussianNB predict accuracy\", GaussianNB_predict_accuracy)"
      ],
      "metadata": {
        "id": "lYZ1JBnLl0Im",
        "colab": {
          "base_uri": "https://localhost:8080/"
        },
        "outputId": "13c691d5-335b-4499-c34b-4c04b693f4d6"
      },
      "id": "lYZ1JBnLl0Im",
      "execution_count": 19,
      "outputs": [
        {
          "output_type": "stream",
          "name": "stdout",
          "text": [
            "GaussianNB predict accuracy 0.9666666666666667\n"
          ]
        }
      ]
    }
  ],
  "metadata": {
    "kernelspec": {
      "display_name": "Python 3 (ipykernel)",
      "language": "python",
      "name": "python3"
    },
    "language_info": {
      "codemirror_mode": {
        "name": "ipython",
        "version": 3
      },
      "file_extension": ".py",
      "mimetype": "text/x-python",
      "name": "python",
      "nbconvert_exporter": "python",
      "pygments_lexer": "ipython3",
      "version": "3.9.10"
    },
    "colab": {
      "provenance": []
    }
  },
  "nbformat": 4,
  "nbformat_minor": 5
}