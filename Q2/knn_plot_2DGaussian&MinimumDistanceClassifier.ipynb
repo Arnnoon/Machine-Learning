{
  "nbformat": 4,
  "nbformat_minor": 0,
  "metadata": {
    "colab": {
      "provenance": []
    },
    "kernelspec": {
      "name": "python3",
      "display_name": "Python 3"
    },
    "language_info": {
      "name": "python"
    }
  },
  "cells": [
    {
      "cell_type": "code",
      "execution_count": null,
      "metadata": {
        "id": "O6-zL7SyE1EK"
      },
      "outputs": [],
      "source": [
        "import cv2 as cv\n",
        "import numpy as np\n",
        "import matplotlib.pyplot as plt\n",
        "from sklearn.model_selection import train_test_split\n",
        "import math"
      ]
    },
    {
      "cell_type": "markdown",
      "source": [
        "#Create Training"
      ],
      "metadata": {
        "id": "IMkO5UEyHMYN"
      }
    },
    {
      "cell_type": "code",
      "source": [
        "number_points = 50\n",
        "\n",
        "meanR = (20, 30) #mean_x, mean_y\n",
        "covR = [[3, 0], [0, 10]] #s_x = 3, s_y = 10\n",
        "dataR = np.random.multivariate_normal(meanR, covR, number_points)\n",
        "\n",
        "meanB = (40, 40)\n",
        "covB = [[10, 0], [0, 10]]\n",
        "dataB = np.random.multivariate_normal(meanB, covB, number_points)\n",
        "\n",
        "meanY = (50, 40) \n",
        "covY = [[15, 0], [0, 15]] \n",
        "dataY = np.random.multivariate_normal(meanY, covY, number_points)\n",
        "\n",
        "testsize = 0.3\n",
        "train_R, test_R, train_B, test_B, train_Y, test_Y = train_test_split(dataR, dataB, dataY, test_size=testsize, random_state=0)\n",
        "\n",
        "train_data = np.concatenate((train_R, train_B, train_Y), axis=0)\n",
        "train_data = train_data.astype(np.float32)\n",
        "test_data = np.concatenate((test_R, test_B, test_Y), axis=0)\n",
        "test_data = test_data.astype(np.float32)"
      ],
      "metadata": {
        "id": "WKDL-RC_HRAy"
      },
      "execution_count": null,
      "outputs": []
    },
    {
      "cell_type": "code",
      "source": [
        "#matplotlib.pyplot.scatter(x, y, s=None, c=None, marker=None, ...)\n",
        "fig = plt.figure(figsize=(8, 8)) #8 inch by 8 inch plot size\n",
        "plt.xlim(0, 80) #x min and max\n",
        "plt.ylim(0, 80) #y min and max\n",
        "plt.scatter(train_R[:, 0],train_R[:, 1], 80,'r','^')\n",
        "plt.scatter(train_B[:,0],train_B[:,1],80,'b','s')\n",
        "plt.scatter(train_Y[:,0],train_Y[:,1],80,'y','*')\n",
        "plt.show()"
      ],
      "metadata": {
        "id": "8UBVmMQ_Hhhi",
        "colab": {
          "base_uri": "https://localhost:8080/",
          "height": 487
        },
        "outputId": "a49e977e-b820-497c-da5c-d9887e5673e2"
      },
      "execution_count": null,
      "outputs": [
        {
          "output_type": "display_data",
          "data": {
            "text/plain": [
              "<Figure size 576x576 with 1 Axes>"
            ],
            "image/png": "[encoded data removed]"
          },
          "metadata": {
            "needs_background": "light"
          }
        }
      ]
    },
    {
      "cell_type": "markdown",
      "source": [
        "#Test Unknown Data"
      ],
      "metadata": {
        "id": "QG4sK2AKHjqo"
      }
    },
    {
      "cell_type": "code",
      "source": [
        "plt.scatter(train_R[:, 0],train_R[:, 1], 80,'r','^')\n",
        "plt.scatter(train_B[:,0],train_B[:,1],80,'b','s')\n",
        "plt.scatter(train_Y[:,0],train_Y[:,1],80,'y','*')\n",
        "plt.scatter(test_data[:,0],test_data[:,1],80,'g','+') #green, circle\n",
        "plt.show()"
      ],
      "metadata": {
        "id": "UBZpm3KiJprO",
        "colab": {
          "base_uri": "https://localhost:8080/",
          "height": 265
        },
        "outputId": "eb84573d-3714-4f28-f225-7ac81178af72"
      },
      "execution_count": null,
      "outputs": [
        {
          "output_type": "display_data",
          "data": {
            "text/plain": [
              "<Figure size 432x288 with 1 Axes>"
            ],
            "image/png": "[encoded data removed]"
          },
          "metadata": {
            "needs_background": "light"
          }
        }
      ]
    },
    {
      "cell_type": "code",
      "source": [
        "responses = np.concatenate((np.full(int(number_points*(1-testsize)), 0.0), np.full(int(number_points*(1-testsize)), 1.0), np.full(int(number_points*(1-testsize)), 2.0)))\n",
        "responses = np.array(responses.reshape(-1, 1), dtype=np.float32)\n",
        "expect_result = np.concatenate((np.full(int(number_points*testsize), 0.0), np.full(int(number_points*testsize), 1.0), np.full(int(number_points*testsize), 2.0)))\n",
        "expect_result = np.array(expect_result.reshape(-1, 1), dtype=np.float32)\n",
        "colorName = np.array(['Red', 'Blue', 'Yellow'])\n",
        "\n",
        "# print(\"train_data shape:\", train_data.shape)\n",
        "# print(\"responses shape:\", responses.shape)\n",
        "knn = cv.ml.KNearest_create()\n",
        "knn.train(train_data, cv.ml.ROW_SAMPLE, responses)\n",
        "ret, results, neighbors, dist = knn.findNearest(test_data, 5)\n",
        "\n",
        "correct = 0\n",
        "for i in range(len(test_data)):\n",
        "  resultColor = colorName[results[i].astype(int)]\n",
        "  neighborColors = colorName[neighbors[i].astype(int)]\n",
        "\n",
        "  if (results[i].astype(int) == expect_result[i].astype(int)):\n",
        "    correct += 1\n",
        "\n",
        "accuracy_percent = correct / len(expect_result)\n",
        "print(\"KNN K = 5 accuray percent is\",accuracy_percent)\n"
      ],
      "metadata": {
        "id": "JYA4emSNLBr7",
        "colab": {
          "base_uri": "https://localhost:8080/"
        },
        "outputId": "6a8b9ad5-f709-4aaf-dca8-347353d58811"
      },
      "execution_count": null,
      "outputs": [
        {
          "output_type": "stream",
          "name": "stdout",
          "text": [
            "KNN K = 5 accuray percent is 0.9555555555555556\n"
          ]
        }
      ]
    },
    {
      "cell_type": "code",
      "source": [
        "mean_R = np.mean(train_R, axis=0)\n",
        "mean_B = np.mean(train_B, axis=0)\n",
        "mean_Y = np.mean(train_Y, axis=0)\n",
        "\n",
        "centroid = [mean_R.tolist(), mean_B.tolist(), mean_Y.tolist()]\n",
        "centroid = np.array(centroid, dtype=np.float32)\n",
        "responses = [0, 1, 2]\n",
        "responses = np.array(responses, dtype=np.float32)\n",
        "\n",
        "print(\"mean of red =\", centroid[0], \"mean of blue =\", centroid[1], \"mean of yellow =\", centroid[2])"
      ],
      "metadata": {
        "colab": {
          "base_uri": "https://localhost:8080/"
        },
        "id": "test0LBcXFeJ",
        "outputId": "d37f997c-7c9b-4e33-8b56-720a032a72ac"
      },
      "execution_count": null,
      "outputs": [
        {
          "output_type": "stream",
          "name": "stdout",
          "text": [
            "mean of red = [19.931755 29.114399] mean of blue = [39.626453 40.266296] mean of yellow = [50.753605 41.74431 ]\n"
          ]
        }
      ]
    },
    {
      "cell_type": "code",
      "source": [
        "knn = cv.ml.KNearest_create()\n",
        "knn.train(centroid, cv.ml.ROW_SAMPLE, responses)\n",
        "ret, results, neighbors, dist = knn.findNearest(test_data, 1)\n",
        "\n",
        "correct = 0\n",
        "for i in range(len(test_data)):\n",
        "  resultColor = colorName[results[i].astype(int)]\n",
        "  neighborColors = colorName[neighbors[i].astype(int)]\n",
        "\n",
        "  if (results[i].astype(int) == expect_result[i].astype(int)):\n",
        "    correct += 1\n",
        "\n",
        "accuracy_percent = correct / len(expect_result)\n",
        "print(\"Minimum distance classifier accuray percent is\",accuracy_percent)"
      ],
      "metadata": {
        "colab": {
          "base_uri": "https://localhost:8080/"
        },
        "id": "2BDJwsbafxKQ",
        "outputId": "4c9b5fee-31a0-4ab8-f562-5806efe652c4"
      },
      "execution_count": null,
      "outputs": [
        {
          "output_type": "stream",
          "name": "stdout",
          "text": [
            "Minimum distance classifier accuray percent is 0.9777777777777777\n"
          ]
        }
      ]
    }
  ]
}