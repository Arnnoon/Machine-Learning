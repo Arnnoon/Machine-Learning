{
  "cells": [
    {
      "cell_type": "code",
      "source": [
        "#copied mainly from https://scikit-learn.org/stable/modules/naive_bayes.html"
      ],
      "metadata": {
        "id": "l7h3O9MsxPp7"
      },
      "id": "l7h3O9MsxPp7",
      "execution_count": null,
      "outputs": []
    },
    {
      "cell_type": "code",
      "execution_count": 4,
      "id": "e6d47e3e",
      "metadata": {
        "colab": {
          "base_uri": "https://localhost:8080/"
        },
        "id": "e6d47e3e",
        "outputId": "3f883f26-5aa5-4b0b-cc4b-bfa3378b6c2f"
      },
      "outputs": [
        {
          "name": "stdout",
          "output_type": "stream",
          "text": [
            "Enter iris for the Iris dataset and cancer for the Breast Cancer dataset digits\n"
          ]
        }
      ],
      "source": [
        "#see https://scikit-learn.org/stable/modules/generated/sklearn.datasets.load_iris.html\n",
        "from sklearn import datasets\n",
        "from sklearn.model_selection import train_test_split\n",
        "from sklearn.preprocessing import StandardScaler, MinMaxScaler\n",
        "import math\n",
        "\n",
        "dataset_type = 'none'\n",
        "while dataset_type not in {'iris', 'cancer', 'digits'}:\n",
        "  dataset_type = input('Enter iris for the Iris dataset and cancer for the Breast Cancer dataset ')\n",
        "  if dataset_type not in {'iris', 'cancer', 'digits'}:\n",
        "    print(\"Invalid response: '%s', Response must be only iris or cancer or digits. Please try again.\" % dataset_type)\n"
      ]
    },
    {
      "cell_type": "code",
      "source": [
        "if dataset_type == 'iris': \n",
        "  the_data = datasets.load_iris() #get the data from sklearn\n",
        "  print(\"Iris data set selected\")\n",
        "elif dataset_type == 'cancer': \n",
        "  the_data = datasets.load_breast_cancer() #get the data from sklearn\n",
        "  print(\"Cancer data set selected\")\n",
        "else: \n",
        "  the_data = datasets.load_digits() #get the data from sklearn\n",
        "  print(\"Digits data set selected\")\n"
      ],
      "metadata": {
        "id": "Hlo1UFkh-6uK",
        "colab": {
          "base_uri": "https://localhost:8080/"
        },
        "outputId": "9edd786c-d3f5-4063-d69a-839fcac36f58"
      },
      "id": "Hlo1UFkh-6uK",
      "execution_count": 5,
      "outputs": [
        {
          "output_type": "stream",
          "name": "stdout",
          "text": [
            "Digits data set selected\n"
          ]
        }
      ]
    },
    {
      "cell_type": "code",
      "source": [
        "print(\"\\nThe Entire Dataset \\n\", the_data) "
      ],
      "metadata": {
        "colab": {
          "base_uri": "https://localhost:8080/"
        },
        "id": "JTi2cQdgn7K8",
        "outputId": "b0580a91-9fe9-44a2-fcaa-3bff711a0e38"
      },
      "id": "JTi2cQdgn7K8",
      "execution_count": null,
      "outputs": [
        {
          "output_type": "stream",
          "name": "stdout",
          "text": [
            "\n",
            "The Entire Dataset \n",
            " {'data': array([[ 0.,  0.,  5., ...,  0.,  0.,  0.],\n",
            "       [ 0.,  0.,  0., ..., 10.,  0.,  0.],\n",
            "       [ 0.,  0.,  0., ..., 16.,  9.,  0.],\n",
            "       ...,\n",
            "       [ 0.,  0.,  1., ...,  6.,  0.,  0.],\n",
            "       [ 0.,  0.,  2., ..., 12.,  0.,  0.],\n",
            "       [ 0.,  0., 10., ..., 12.,  1.,  0.]]), 'target': array([0, 1, 2, ..., 8, 9, 8]), 'frame': None, 'feature_names': ['pixel_0_0', 'pixel_0_1', 'pixel_0_2', 'pixel_0_3', 'pixel_0_4', 'pixel_0_5', 'pixel_0_6', 'pixel_0_7', 'pixel_1_0', 'pixel_1_1', 'pixel_1_2', 'pixel_1_3', 'pixel_1_4', 'pixel_1_5', 'pixel_1_6', 'pixel_1_7', 'pixel_2_0', 'pixel_2_1', 'pixel_2_2', 'pixel_2_3', 'pixel_2_4', 'pixel_2_5', 'pixel_2_6', 'pixel_2_7', 'pixel_3_0', 'pixel_3_1', 'pixel_3_2', 'pixel_3_3', 'pixel_3_4', 'pixel_3_5', 'pixel_3_6', 'pixel_3_7', 'pixel_4_0', 'pixel_4_1', 'pixel_4_2', 'pixel_4_3', 'pixel_4_4', 'pixel_4_5', 'pixel_4_6', 'pixel_4_7', 'pixel_5_0', 'pixel_5_1', 'pixel_5_2', 'pixel_5_3', 'pixel_5_4', 'pixel_5_5', 'pixel_5_6', 'pixel_5_7', 'pixel_6_0', 'pixel_6_1', 'pixel_6_2', 'pixel_6_3', 'pixel_6_4', 'pixel_6_5', 'pixel_6_6', 'pixel_6_7', 'pixel_7_0', 'pixel_7_1', 'pixel_7_2', 'pixel_7_3', 'pixel_7_4', 'pixel_7_5', 'pixel_7_6', 'pixel_7_7'], 'target_names': array([0, 1, 2, 3, 4, 5, 6, 7, 8, 9]), 'images': array([[[ 0.,  0.,  5., ...,  1.,  0.,  0.],\n",
            "        [ 0.,  0., 13., ..., 15.,  5.,  0.],\n",
            "        [ 0.,  3., 15., ..., 11.,  8.,  0.],\n",
            "        ...,\n",
            "        [ 0.,  4., 11., ..., 12.,  7.,  0.],\n",
            "        [ 0.,  2., 14., ..., 12.,  0.,  0.],\n",
            "        [ 0.,  0.,  6., ...,  0.,  0.,  0.]],\n",
            "\n",
            "       [[ 0.,  0.,  0., ...,  5.,  0.,  0.],\n",
            "        [ 0.,  0.,  0., ...,  9.,  0.,  0.],\n",
            "        [ 0.,  0.,  3., ...,  6.,  0.,  0.],\n",
            "        ...,\n",
            "        [ 0.,  0.,  1., ...,  6.,  0.,  0.],\n",
            "        [ 0.,  0.,  1., ...,  6.,  0.,  0.],\n",
            "        [ 0.,  0.,  0., ..., 10.,  0.,  0.]],\n",
            "\n",
            "       [[ 0.,  0.,  0., ..., 12.,  0.,  0.],\n",
            "        [ 0.,  0.,  3., ..., 14.,  0.,  0.],\n",
            "        [ 0.,  0.,  8., ..., 16.,  0.,  0.],\n",
            "        ...,\n",
            "        [ 0.,  9., 16., ...,  0.,  0.,  0.],\n",
            "        [ 0.,  3., 13., ..., 11.,  5.,  0.],\n",
            "        [ 0.,  0.,  0., ..., 16.,  9.,  0.]],\n",
            "\n",
            "       ...,\n",
            "\n",
            "       [[ 0.,  0.,  1., ...,  1.,  0.,  0.],\n",
            "        [ 0.,  0., 13., ...,  2.,  1.,  0.],\n",
            "        [ 0.,  0., 16., ..., 16.,  5.,  0.],\n",
            "        ...,\n",
            "        [ 0.,  0., 16., ..., 15.,  0.,  0.],\n",
            "        [ 0.,  0., 15., ..., 16.,  0.,  0.],\n",
            "        [ 0.,  0.,  2., ...,  6.,  0.,  0.]],\n",
            "\n",
            "       [[ 0.,  0.,  2., ...,  0.,  0.,  0.],\n",
            "        [ 0.,  0., 14., ..., 15.,  1.,  0.],\n",
            "        [ 0.,  4., 16., ..., 16.,  7.,  0.],\n",
            "        ...,\n",
            "        [ 0.,  0.,  0., ..., 16.,  2.,  0.],\n",
            "        [ 0.,  0.,  4., ..., 16.,  2.,  0.],\n",
            "        [ 0.,  0.,  5., ..., 12.,  0.,  0.]],\n",
            "\n",
            "       [[ 0.,  0., 10., ...,  1.,  0.,  0.],\n",
            "        [ 0.,  2., 16., ...,  1.,  0.,  0.],\n",
            "        [ 0.,  0., 15., ..., 15.,  0.,  0.],\n",
            "        ...,\n",
            "        [ 0.,  4., 16., ..., 16.,  6.,  0.],\n",
            "        [ 0.,  8., 16., ..., 16.,  8.,  0.],\n",
            "        [ 0.,  1.,  8., ..., 12.,  1.,  0.]]]), 'DESCR': \".. _digits_dataset:\\n\\nOptical recognition of handwritten digits dataset\\n--------------------------------------------------\\n\\n**Data Set Characteristics:**\\n\\n    :Number of Instances: 1797\\n    :Number of Attributes: 64\\n    :Attribute Information: 8x8 image of integer pixels in the range 0..16.\\n    :Missing Attribute Values: None\\n    :Creator: E. Alpaydin (alpaydin '@' boun.edu.tr)\\n    :Date: July; 1998\\n\\nThis is a copy of the test set of the UCI ML hand-written digits datasets\\nhttps://archive.ics.uci.edu/ml/datasets/Optical+Recognition+of+Handwritten+Digits\\n\\nThe data set contains images of hand-written digits: 10 classes where\\neach class refers to a digit.\\n\\nPreprocessing programs made available by NIST were used to extract\\nnormalized bitmaps of handwritten digits from a preprinted form. From a\\ntotal of 43 people, 30 contributed to the training set and different 13\\nto the test set. 32x32 bitmaps are divided into nonoverlapping blocks of\\n4x4 and the number of on pixels are counted in each block. This generates\\nan input matrix of 8x8 where each element is an integer in the range\\n0..16. This reduces dimensionality and gives invariance to small\\ndistortions.\\n\\nFor info on NIST preprocessing routines, see M. D. Garris, J. L. Blue, G.\\nT. Candela, D. L. Dimmick, J. Geist, P. J. Grother, S. A. Janet, and C.\\nL. Wilson, NIST Form-Based Handprint Recognition System, NISTIR 5469,\\n1994.\\n\\n.. topic:: References\\n\\n  - C. Kaynak (1995) Methods of Combining Multiple Classifiers and Their\\n    Applications to Handwritten Digit Recognition, MSc Thesis, Institute of\\n    Graduate Studies in Science and Engineering, Bogazici University.\\n  - E. Alpaydin, C. Kaynak (1998) Cascading Classifiers, Kybernetika.\\n  - Ken Tang and Ponnuthurai N. Suganthan and Xi Yao and A. Kai Qin.\\n    Linear dimensionalityreduction using relevance weighted LDA. School of\\n    Electrical and Electronic Engineering Nanyang Technological University.\\n    2005.\\n  - Claudio Gentile. A New Approximate Maximal Margin Classification\\n    Algorithm. NIPS. 2000.\\n\"}\n"
          ]
        }
      ]
    },
    {
      "cell_type": "code",
      "source": [
        "# the_data is an extension of the distionary data type into a sklearn type called bunch.  The Iris data is a dictionary data type.  \n",
        "# The dicitionay has the following key -> values: \n",
        "# 'data': array n x 4 of 4 lengths\n",
        "# 'target': array n x 1 of target classes with values 0, 1, or 2\n",
        "# 'target_names': array for the 3 names of iris species values or array (['setosa', 'versicolor', 'virginica'], dtype='<U10')\n",
        "# 'feature_names': list of 4 feature names.  ['sepal length (cm)', 'sepal width (cm)', 'petal length (cm)', 'petal width (cm)']\n",
        "# 'frame': ... \n",
        "# 'DESCR': ... \n",
        "# 'filename': 'iris.csv'\n",
        "# 'data_module': ... \n",
        "label_names = the_data['target_names']\n",
        "feature_names = the_data['feature_names']\n",
        "all_labels = the_data['target']\n",
        "all_features = the_data['data']\n",
        "# Looking at our data\n",
        "print(\"\\n the_data data type: \", type(the_data))\n",
        "print(\"Feature Names: \\n\", feature_names)\n",
        "print(\"\\nTarget Label Names: \\n\", label_names)\n",
        "print(\"\\nfeatures data type: \", type(all_features))\n",
        "print(\"\\nAll Features in the data: \\n\", all_features)\n",
        "print(\"\\nAll Labels in the data: \\n\", all_labels)"
      ],
      "metadata": {
        "colab": {
          "base_uri": "https://localhost:8080/"
        },
        "id": "IQxbdweqhTVI",
        "outputId": "f4066de4-6d63-47bc-9791-49237c963de2"
      },
      "id": "IQxbdweqhTVI",
      "execution_count": 6,
      "outputs": [
        {
          "output_type": "stream",
          "name": "stdout",
          "text": [
            "\n",
            " the_data data type:  <class 'sklearn.utils.Bunch'>\n",
            "Feature Names: \n",
            " ['pixel_0_0', 'pixel_0_1', 'pixel_0_2', 'pixel_0_3', 'pixel_0_4', 'pixel_0_5', 'pixel_0_6', 'pixel_0_7', 'pixel_1_0', 'pixel_1_1', 'pixel_1_2', 'pixel_1_3', 'pixel_1_4', 'pixel_1_5', 'pixel_1_6', 'pixel_1_7', 'pixel_2_0', 'pixel_2_1', 'pixel_2_2', 'pixel_2_3', 'pixel_2_4', 'pixel_2_5', 'pixel_2_6', 'pixel_2_7', 'pixel_3_0', 'pixel_3_1', 'pixel_3_2', 'pixel_3_3', 'pixel_3_4', 'pixel_3_5', 'pixel_3_6', 'pixel_3_7', 'pixel_4_0', 'pixel_4_1', 'pixel_4_2', 'pixel_4_3', 'pixel_4_4', 'pixel_4_5', 'pixel_4_6', 'pixel_4_7', 'pixel_5_0', 'pixel_5_1', 'pixel_5_2', 'pixel_5_3', 'pixel_5_4', 'pixel_5_5', 'pixel_5_6', 'pixel_5_7', 'pixel_6_0', 'pixel_6_1', 'pixel_6_2', 'pixel_6_3', 'pixel_6_4', 'pixel_6_5', 'pixel_6_6', 'pixel_6_7', 'pixel_7_0', 'pixel_7_1', 'pixel_7_2', 'pixel_7_3', 'pixel_7_4', 'pixel_7_5', 'pixel_7_6', 'pixel_7_7']\n",
            "\n",
            "Target Label Names: \n",
            " [0 1 2 3 4 5 6 7 8 9]\n",
            "\n",
            "features data type:  <class 'numpy.ndarray'>\n",
            "\n",
            "All Features in the data: \n",
            " [[ 0.  0.  5. ...  0.  0.  0.]\n",
            " [ 0.  0.  0. ... 10.  0.  0.]\n",
            " [ 0.  0.  0. ... 16.  9.  0.]\n",
            " ...\n",
            " [ 0.  0.  1. ...  6.  0.  0.]\n",
            " [ 0.  0.  2. ... 12.  0.  0.]\n",
            " [ 0.  0. 10. ... 12.  1.  0.]]\n",
            "\n",
            "All Labels in the data: \n",
            " [0 1 2 ... 8 9 8]\n"
          ]
        }
      ]
    },
    {
      "cell_type": "code",
      "execution_count": 7,
      "id": "0b59906e",
      "metadata": {
        "colab": {
          "base_uri": "https://localhost:8080/"
        },
        "id": "0b59906e",
        "outputId": "21fee8ee-13b8-4859-b9cd-7ce74a18423e"
      },
      "outputs": [
        {
          "name": "stdout",
          "output_type": "stream",
          "text": [
            "Do you want to normalize the data (Y/N) Y\n"
          ]
        }
      ],
      "source": [
        "#see https://scikit-learn.org/stable/modules/generated/sklearn.model_selection.train_test_split.html\n",
        "from sklearn.model_selection import train_test_split\n",
        "# Spliting our dataset into 2 parts for training and testing\n",
        "training_features, testing_features, training_labels, testing_labels = train_test_split(all_features,all_labels,test_size=0.2,random_state=0)\n",
        "# print(\"\\nTraining features: \\n\", training_features)\n",
        "# print(\"\\nTraining Labels: \\n\", training_labels) \n",
        "# print(\"\\nTesting Labels: \\n\", testing_labels) \n",
        "normalize = \"none\"\n",
        "while normalize not in {'Y', 'N'}:\n",
        "  normalize = input(\"Do you want to normalize the data (Y/N) \")\n",
        "  if normalize == 'Y':\n",
        "    scaler = StandardScaler()\n",
        "    model = scaler.fit(training_features)\n",
        "    training_features = model.transform(training_features)\n",
        "    testing_features = model.transform(testing_features)\n",
        "  elif normalize != 'N':\n",
        "    print(\"Invalid response: '%s', Response must be only Y or N. Please try again.  \" % dataset_type)\n"
      ]
    },
    {
      "cell_type": "code",
      "source": [
        "# Training our Classifier\n",
        "from sklearn.naive_bayes import GaussianNB\n",
        "classifier = GaussianNB() #classifier is now an object of the Gaussian Naive Bayes class\n",
        "model = classifier.fit(training_features,training_labels)  \n",
        "predicted_labels = model.predict(testing_features) #use the model obtained in previous step to predict labels for testing features"
      ],
      "metadata": {
        "id": "lYZ1JBnLl0Im"
      },
      "id": "lYZ1JBnLl0Im",
      "execution_count": 8,
      "outputs": []
    },
    {
      "cell_type": "code",
      "source": [
        "print (\"\\nPredicted class labels: \\n\", predicted_labels)\n",
        "print(\"\\nCorrect Testing class labels: \\n\", testing_labels)\n",
        "print(\"\\nPredicted Class Names: \\n\", label_names[predicted_labels])\n",
        "print(\"\\nCorrect Class Names: \\n\", label_names[testing_labels])"
      ],
      "metadata": {
        "colab": {
          "base_uri": "https://localhost:8080/"
        },
        "id": "p9EJAnX2lsOW",
        "outputId": "26d8fc55-f6c9-4dd8-dcd4-daa155975bd0"
      },
      "id": "p9EJAnX2lsOW",
      "execution_count": 9,
      "outputs": [
        {
          "output_type": "stream",
          "name": "stdout",
          "text": [
            "\n",
            "Predicted class labels: \n",
            " [2 8 2 6 6 7 1 9 8 5 2 8 6 6 6 6 1 0 5 8 8 7 8 7 7 5 7 9 2 9 4 7 6 1 9 4 3\n",
            " 1 0 1 1 6 7 7 1 0 7 6 3 1 9 6 7 9 0 0 5 1 6 3 0 2 3 4 1 9 8 6 8 1 1 3 5 1\n",
            " 2 1 8 1 9 7 1 3 6 0 5 3 7 5 1 8 9 9 3 1 7 7 4 1 5 1 5 5 8 5 8 0 7 1 7 7 3\n",
            " 7 8 9 7 7 8 1 6 5 8 5 5 4 1 7 0 6 8 5 8 1 1 5 9 9 5 7 5 6 8 8 6 7 6 1 5 1\n",
            " 7 9 9 1 5 3 6 1 8 9 7 7 6 7 6 5 6 0 8 7 3 8 6 1 0 7 1 6 3 8 6 7 4 1 6 3 0\n",
            " 3 3 3 0 7 7 5 7 8 0 7 1 9 6 4 7 0 1 7 6 1 3 8 0 9 5 3 1 1 4 1 1 6 1 9 1 4\n",
            " 8 3 7 6 8 3 3 1 6 9 8 6 3 1 2 0 7 6 1 1 8 7 1 7 1 5 5 7 5 8 8 7 2 7 5 5 7\n",
            " 0 9 1 6 5 9 7 4 3 8 0 3 6 7 6 3 1 6 1 8 8 4 6 7 5 2 1 7 3 8 4 6 9 4 5 7 3\n",
            " 4 6 2 8 0 1 7 8 0 1 6 0 4 8 0 7 7 7 5 7 8 2 8 7 3 7 2 6 7 1 1 1 0 8 2 8 8\n",
            " 5 6 8 3 7 8 1 5 1 6 6 5 0 9 4 1 1 7 0 8 9 0 5 7 8 1 8]\n",
            "\n",
            "Correct Testing class labels: \n",
            " [2 8 2 6 6 7 1 9 8 5 2 8 6 6 6 6 1 0 5 8 8 7 8 4 7 5 4 9 2 9 4 7 6 8 9 4 3\n",
            " 1 0 1 8 6 7 7 1 0 7 6 2 1 9 6 7 9 0 0 5 1 6 3 0 2 3 4 1 9 2 6 9 1 8 3 5 1\n",
            " 2 8 2 2 9 7 2 3 6 0 5 3 7 5 1 2 9 9 3 1 7 7 4 8 5 8 5 5 2 5 9 0 7 1 4 7 3\n",
            " 4 8 9 7 9 8 2 6 5 2 5 8 4 8 7 0 6 1 5 9 9 9 5 9 9 5 7 5 6 2 8 6 9 6 1 5 1\n",
            " 5 9 9 1 5 3 6 1 8 9 8 7 6 7 6 5 6 0 8 8 9 8 6 1 0 4 1 6 3 8 6 7 4 5 6 3 0\n",
            " 3 3 3 0 7 7 5 7 8 0 7 8 9 6 4 5 0 1 4 6 4 3 3 0 9 5 9 2 1 4 2 1 6 8 9 2 4\n",
            " 9 3 7 6 2 3 3 1 6 9 3 6 3 2 2 0 7 6 1 1 9 7 2 7 8 5 5 7 5 2 3 7 2 7 5 5 7\n",
            " 0 9 1 6 5 9 7 4 3 8 0 3 6 4 6 3 2 6 8 8 8 4 6 7 5 2 4 5 3 2 4 6 9 4 5 4 3\n",
            " 4 6 2 9 0 1 7 2 0 9 6 0 4 2 0 7 9 8 5 4 8 2 8 4 3 7 2 6 9 1 5 1 0 8 2 1 9\n",
            " 5 6 8 2 7 2 1 5 1 6 4 5 0 9 4 1 1 7 0 8 9 0 5 4 3 8 8]\n",
            "\n",
            "Predicted Class Names: \n",
            " [2 8 2 6 6 7 1 9 8 5 2 8 6 6 6 6 1 0 5 8 8 7 8 7 7 5 7 9 2 9 4 7 6 1 9 4 3\n",
            " 1 0 1 1 6 7 7 1 0 7 6 3 1 9 6 7 9 0 0 5 1 6 3 0 2 3 4 1 9 8 6 8 1 1 3 5 1\n",
            " 2 1 8 1 9 7 1 3 6 0 5 3 7 5 1 8 9 9 3 1 7 7 4 1 5 1 5 5 8 5 8 0 7 1 7 7 3\n",
            " 7 8 9 7 7 8 1 6 5 8 5 5 4 1 7 0 6 8 5 8 1 1 5 9 9 5 7 5 6 8 8 6 7 6 1 5 1\n",
            " 7 9 9 1 5 3 6 1 8 9 7 7 6 7 6 5 6 0 8 7 3 8 6 1 0 7 1 6 3 8 6 7 4 1 6 3 0\n",
            " 3 3 3 0 7 7 5 7 8 0 7 1 9 6 4 7 0 1 7 6 1 3 8 0 9 5 3 1 1 4 1 1 6 1 9 1 4\n",
            " 8 3 7 6 8 3 3 1 6 9 8 6 3 1 2 0 7 6 1 1 8 7 1 7 1 5 5 7 5 8 8 7 2 7 5 5 7\n",
            " 0 9 1 6 5 9 7 4 3 8 0 3 6 7 6 3 1 6 1 8 8 4 6 7 5 2 1 7 3 8 4 6 9 4 5 7 3\n",
            " 4 6 2 8 0 1 7 8 0 1 6 0 4 8 0 7 7 7 5 7 8 2 8 7 3 7 2 6 7 1 1 1 0 8 2 8 8\n",
            " 5 6 8 3 7 8 1 5 1 6 6 5 0 9 4 1 1 7 0 8 9 0 5 7 8 1 8]\n",
            "\n",
            "Correct Class Names: \n",
            " [2 8 2 6 6 7 1 9 8 5 2 8 6 6 6 6 1 0 5 8 8 7 8 4 7 5 4 9 2 9 4 7 6 8 9 4 3\n",
            " 1 0 1 8 6 7 7 1 0 7 6 2 1 9 6 7 9 0 0 5 1 6 3 0 2 3 4 1 9 2 6 9 1 8 3 5 1\n",
            " 2 8 2 2 9 7 2 3 6 0 5 3 7 5 1 2 9 9 3 1 7 7 4 8 5 8 5 5 2 5 9 0 7 1 4 7 3\n",
            " 4 8 9 7 9 8 2 6 5 2 5 8 4 8 7 0 6 1 5 9 9 9 5 9 9 5 7 5 6 2 8 6 9 6 1 5 1\n",
            " 5 9 9 1 5 3 6 1 8 9 8 7 6 7 6 5 6 0 8 8 9 8 6 1 0 4 1 6 3 8 6 7 4 5 6 3 0\n",
            " 3 3 3 0 7 7 5 7 8 0 7 8 9 6 4 5 0 1 4 6 4 3 3 0 9 5 9 2 1 4 2 1 6 8 9 2 4\n",
            " 9 3 7 6 2 3 3 1 6 9 3 6 3 2 2 0 7 6 1 1 9 7 2 7 8 5 5 7 5 2 3 7 2 7 5 5 7\n",
            " 0 9 1 6 5 9 7 4 3 8 0 3 6 4 6 3 2 6 8 8 8 4 6 7 5 2 4 5 3 2 4 6 9 4 5 4 3\n",
            " 4 6 2 9 0 1 7 2 0 9 6 0 4 2 0 7 9 8 5 4 8 2 8 4 3 7 2 6 9 1 5 1 0 8 2 1 9\n",
            " 5 6 8 2 7 2 1 5 1 6 4 5 0 9 4 1 1 7 0 8 9 0 5 4 3 8 8]\n"
          ]
        }
      ]
    },
    {
      "cell_type": "code",
      "source": [
        "print (\"Test data where predicted label equals the test label: \\n\", testing_labels == predicted_labels)\n",
        "number_correct = (testing_labels == predicted_labels).sum()\n",
        "print (\"\\nNumber of correct predictions: %d. Out of total test cases %d.\" %(number_correct, testing_labels.shape[0]) )"
      ],
      "metadata": {
        "colab": {
          "base_uri": "https://localhost:8080/"
        },
        "id": "Je2jyBULb6Zh",
        "outputId": "9eec4113-2583-403a-bfb6-ce4ed7b9b991"
      },
      "id": "Je2jyBULb6Zh",
      "execution_count": 10,
      "outputs": [
        {
          "output_type": "stream",
          "name": "stdout",
          "text": [
            "Test data where predicted label equals the test label: \n",
            " [ True  True  True  True  True  True  True  True  True  True  True  True\n",
            "  True  True  True  True  True  True  True  True  True  True  True False\n",
            "  True  True False  True  True  True  True  True  True False  True  True\n",
            "  True  True  True  True False  True  True  True  True  True  True  True\n",
            " False  True  True  True  True  True  True  True  True  True  True  True\n",
            "  True  True  True  True  True  True False  True False  True False  True\n",
            "  True  True  True False False False  True  True False  True  True  True\n",
            "  True  True  True  True  True False  True  True  True  True  True  True\n",
            "  True False  True False  True  True False  True False  True  True  True\n",
            " False  True  True False  True  True  True False  True False  True  True\n",
            " False  True False  True False  True  True  True False  True False False\n",
            " False  True  True  True  True  True  True  True False  True  True False\n",
            "  True  True  True  True False  True  True  True  True  True  True  True\n",
            "  True  True False  True  True  True  True  True  True  True  True False\n",
            " False  True  True  True  True False  True  True  True  True  True  True\n",
            "  True False  True  True  True  True  True  True  True  True  True  True\n",
            "  True  True  True  True False  True  True  True False  True  True False\n",
            "  True False  True False  True  True  True False False  True  True False\n",
            "  True  True False  True False  True False  True  True  True False  True\n",
            "  True  True  True  True False  True  True False  True  True  True  True\n",
            "  True  True False  True False  True False  True  True  True  True False\n",
            " False  True  True  True  True  True  True  True  True  True  True  True\n",
            "  True  True  True  True  True  True  True  True False  True  True False\n",
            "  True False  True  True  True  True  True  True  True False False  True\n",
            " False  True  True  True  True  True False  True  True  True  True False\n",
            "  True  True  True False  True False  True  True  True False  True  True\n",
            " False False  True False  True  True  True False  True  True  True  True\n",
            " False  True False  True  True  True  True False False  True  True  True\n",
            " False  True False  True  True  True  True False  True  True  True  True\n",
            "  True  True  True  True  True  True  True  True False False False  True]\n",
            "\n",
            "Number of correct predictions: 280. Out of total test cases 360.\n"
          ]
        }
      ]
    },
    {
      "cell_type": "code",
      "execution_count": 11,
      "id": "216691d2",
      "metadata": {
        "id": "216691d2",
        "colab": {
          "base_uri": "https://localhost:8080/"
        },
        "outputId": "06e3142f-d829-49c9-d09d-485acf41bc51"
      },
      "outputs": [
        {
          "output_type": "stream",
          "name": "stdout",
          "text": [
            "Prediction Accuracy : 77.78%\n"
          ]
        }
      ],
      "source": [
        "from sklearn.metrics import accuracy_score\n",
        "# Calculating the % Accuracy of the prediction. For Iris dataset random_state = 0 gives 97%, random_state 40 gives 100%, random_state 5 gives 90%. \n",
        "accuracy_percent = 100*accuracy_score(testing_labels,predicted_labels)\n",
        "print(\"Prediction Accuracy : %5.2f%%\" % accuracy_percent) #%% escapes the formatting % to print '%'"
      ]
    },
    {
      "cell_type": "code",
      "source": [
        "from sklearn.neighbors import KNeighborsClassifier\n",
        "neighbor_size = []\n",
        "errors_list = []\n",
        "for k in range (2, 20): \n",
        "  classifier = KNeighborsClassifier(n_neighbors = k)\n",
        "  model = classifier.fit(training_features,training_labels)  # or can also use:   predicted_labels = classifier.fit(train_features,train_labels) \n",
        "  predicted_labels = model.predict(testing_features) #use the model obtained in previous step to predict labels for testing features\n",
        "  accuracy_percent = 100*accuracy_score(testing_labels,predicted_labels)\n",
        "  # Calculating the % Accuracy of the prediction. \n",
        "  print(\"Prediction Accuracy for k = %2d : %5.2f%%\" % (k, accuracy_percent)) #%% escapes the formatting % to print '%'\n",
        "  neighbor_size.append(k)\n",
        "  errors_list.append(100-accuracy_percent)\n",
        "\n",
        "print (\" K = \", neighbor_size, \"\\n\", \"Errors = \", errors_list)"
      ],
      "metadata": {
        "colab": {
          "base_uri": "https://localhost:8080/"
        },
        "id": "M8byXX4QUcOx",
        "outputId": "594a8b4d-6b69-45d9-ce06-e8407b47abe7"
      },
      "id": "M8byXX4QUcOx",
      "execution_count": 12,
      "outputs": [
        {
          "output_type": "stream",
          "name": "stdout",
          "text": [
            "Prediction Accuracy for k =  2 : 96.67%\n",
            "Prediction Accuracy for k =  3 : 96.67%\n",
            "Prediction Accuracy for k =  4 : 96.11%\n",
            "Prediction Accuracy for k =  5 : 96.94%\n",
            "Prediction Accuracy for k =  6 : 96.67%\n",
            "Prediction Accuracy for k =  7 : 96.94%\n",
            "Prediction Accuracy for k =  8 : 96.67%\n",
            "Prediction Accuracy for k =  9 : 96.94%\n",
            "Prediction Accuracy for k = 10 : 96.11%\n",
            "Prediction Accuracy for k = 11 : 96.67%\n",
            "Prediction Accuracy for k = 12 : 96.39%\n",
            "Prediction Accuracy for k = 13 : 96.67%\n",
            "Prediction Accuracy for k = 14 : 96.94%\n",
            "Prediction Accuracy for k = 15 : 96.39%\n",
            "Prediction Accuracy for k = 16 : 96.39%\n",
            "Prediction Accuracy for k = 17 : 95.83%\n",
            "Prediction Accuracy for k = 18 : 95.56%\n",
            "Prediction Accuracy for k = 19 : 95.56%\n",
            " K =  [2, 3, 4, 5, 6, 7, 8, 9, 10, 11, 12, 13, 14, 15, 16, 17, 18, 19] \n",
            " Errors =  [3.3333333333333286, 3.3333333333333286, 3.8888888888888857, 3.055555555555557, 3.3333333333333286, 3.055555555555557, 3.3333333333333286, 3.055555555555557, 3.8888888888888857, 3.3333333333333286, 3.6111111111111143, 3.3333333333333286, 3.055555555555557, 3.6111111111111143, 3.6111111111111143, 4.166666666666657, 4.444444444444443, 4.444444444444443]\n"
          ]
        }
      ]
    },
    {
      "cell_type": "code",
      "source": [
        "# plot misclassification error versus k\n",
        "import matplotlib.pyplot as plt\n",
        "plt.figure(figsize = (10, 6 ))\n",
        "plt.plot(neighbor_size, errors_list) #x list and y list\n",
        "plt.xlabel('Number of neighbors')\n",
        "plt.ylabel('Misclassification Error Percent')\n",
        "plt.ylim((0,10))\n",
        "plt.grid(True)\n",
        "plt.show()"
      ],
      "metadata": {
        "colab": {
          "base_uri": "https://localhost:8080/",
          "height": 392
        },
        "id": "ksIRwFGCYRJe",
        "outputId": "8e58341d-9e19-4737-8472-e8ecece5a338"
      },
      "id": "ksIRwFGCYRJe",
      "execution_count": 13,
      "outputs": [
        {
          "output_type": "display_data",
          "data": {
            "text/plain": [
              "<Figure size 720x432 with 1 Axes>"
            ],
            "image/png": "[encoded data removed]"
          },
          "metadata": {
            "needs_background": "light"
          }
        }
      ]
    },
    {
      "cell_type": "code",
      "source": [
        "from sklearn.model_selection import cross_val_score\n",
        "# perform k-fold cross validation\n",
        "neighbor_size = [] #value of k used\n",
        "errors_list = [] #accuracy for k used\n",
        "num_folds = 5 #number of folds in k-fold. Usually 5 is a good number. \n",
        "for k in range (2, 20): \n",
        "    classifier = KNeighborsClassifier(n_neighbors = k)\n",
        "    #try the experiment, splitting data into num_fold folds, with 1 fold as test set \n",
        "    scores = cross_val_score(classifier, all_features, all_labels, cv = num_folds, scoring = 'accuracy') \n",
        "    print(\"scores = \", scores, \"average = \", scores.mean())\n",
        "    accuracy_percent = 100*scores.mean() #use the mean of the cv = num_folds scores as accuracy. \n",
        "    neighbor_size.append(k)\n",
        "    errors_list.append(100-accuracy_percent)\n",
        "\n",
        "print (\" K = \", neighbor_size, \"\\n\", \"Error Percent = \", errors_list)"
      ],
      "metadata": {
        "colab": {
          "base_uri": "https://localhost:8080/"
        },
        "id": "o8G-LLfJdhKa",
        "outputId": "7c375527-5915-41dd-859e-ada91a5b3c97"
      },
      "id": "o8G-LLfJdhKa",
      "execution_count": 14,
      "outputs": [
        {
          "output_type": "stream",
          "name": "stdout",
          "text": [
            "scores =  [0.96111111 0.96666667 0.96935933 0.97771588 0.96100279] average =  0.9671711544413494\n",
            "scores =  [0.95555556 0.95833333 0.96657382 0.98607242 0.96657382] average =  0.966621788919839\n",
            "scores =  [0.94722222 0.95833333 0.96657382 0.98050139 0.96657382] average =  0.9638409161250386\n",
            "scores =  [0.94722222 0.95555556 0.96657382 0.98050139 0.9637883 ] average =  0.9627282575054161\n",
            "scores =  [0.94444444 0.95833333 0.96657382 0.97493036 0.95264624] average =  0.9593856391210152\n",
            "scores =  [0.93611111 0.96111111 0.96935933 0.98050139 0.95264624] average =  0.9599458372021046\n",
            "scores =  [0.93611111 0.95833333 0.96935933 0.97771588 0.94986072] average =  0.9582760755184154\n",
            "scores =  [0.93055556 0.95277778 0.97214485 0.97771588 0.94986072] average =  0.9566109563602601\n",
            "scores =  [0.93055556 0.94722222 0.96935933 0.97771588 0.94986072] average =  0.954942742185082\n",
            "scores =  [0.93611111 0.94444444 0.96935933 0.97771588 0.94986072] average =  0.9554982977406375\n",
            "scores =  [0.93611111 0.95277778 0.96935933 0.97493036 0.94986072] average =  0.9566078613432374\n",
            "scores =  [0.93333333 0.95       0.97214485 0.97493036 0.94707521] average =  0.9554967502321263\n",
            "scores =  [0.93611111 0.95277778 0.96935933 0.97214485 0.94986072] average =  0.9560507582791706\n",
            "scores =  [0.93611111 0.95       0.96935933 0.97214485 0.94707521] average =  0.9549380996595481\n",
            "scores =  [0.93055556 0.95       0.96935933 0.96935933 0.95264624] average =  0.9543840916125038\n",
            "scores =  [0.93611111 0.95       0.9637883  0.96657382 0.94986072] average =  0.9532667904673475\n",
            "scores =  [0.92777778 0.94444444 0.9637883  0.9637883  0.94707521] average =  0.9493748065614362\n",
            "scores =  [0.93055556 0.95       0.9637883  0.9637883  0.94428969] average =  0.950484370164036\n",
            " K =  [2, 3, 4, 5, 6, 7, 8, 9, 10, 11, 12, 13, 14, 15, 16, 17, 18, 19] \n",
            " Error Percent =  [3.282884555865067, 3.337821108016101, 3.615908387496134, 3.727174249458386, 4.061436087898485, 4.005416279789543, 4.172392448158462, 4.338904363973995, 4.505725781491805, 4.4501702259362474, 4.339213865676257, 4.450324976787371, 4.394924172082938, 4.50619003404519, 4.561590838749623, 4.673320953265247, 5.06251934385638, 4.9515629835964035]\n"
          ]
        }
      ]
    },
    {
      "cell_type": "code",
      "source": [
        "# plot misclassification error versus k\n",
        "plt.figure(figsize = (10, 6))\n",
        "plt.plot(neighbor_size, errors_list) #x list and y_list\n",
        "plt.xlabel('Number of neighbors (K)')\n",
        "plt.ylabel('Misclassification Error Percent')\n",
        "plt.ylim((0,10))\n",
        "plt.grid(True)\n",
        "plt.show()"
      ],
      "metadata": {
        "colab": {
          "base_uri": "https://localhost:8080/",
          "height": 392
        },
        "id": "XeY-OZynb9PM",
        "outputId": "ae299c93-8f75-4b31-eb99-78820c7eb004"
      },
      "id": "XeY-OZynb9PM",
      "execution_count": 15,
      "outputs": [
        {
          "output_type": "display_data",
          "data": {
            "text/plain": [
              "<Figure size 720x432 with 1 Axes>"
            ],
            "image/png": "[encoded data removed]"
          },
          "metadata": {
            "needs_background": "light"
          }
        }
      ]
    },
    {
      "cell_type": "code",
      "source": [
        "  best_k = 0\n",
        "  best_accuracy = 0\n",
        "  for k in range(1, math.ceil(math.sqrt(len(training_labels)))):\n",
        "    classifier = KNeighborsClassifier(n_neighbors = k)\n",
        "    model = classifier.fit(training_features,training_labels)  # or can also use:   predicted_labels = classifier.fit(train_features,train_labels) \n",
        "    predicted_labels = model.predict(testing_features) #use the model obtained in previous step to predict labels for testing features\n",
        "    accuracy_percent = 100*accuracy_score(testing_labels,predicted_labels)\n",
        "    if best_accuracy < accuracy_percent:\n",
        "      best_k = k\n",
        "      best_accuracy = accuracy_percent\n",
        "      if best_accuracy == 100:\n",
        "        break\n",
        "  \n",
        "  print(\"Best accuracy percent for KNN with k =%2d is %5.2f\" %(best_k, best_accuracy))"
      ],
      "metadata": {
        "colab": {
          "base_uri": "https://localhost:8080/"
        },
        "id": "ilwL4H80o49F",
        "outputId": "b0ffc760-84fd-474f-d98b-fac174d607fe"
      },
      "id": "ilwL4H80o49F",
      "execution_count": 16,
      "outputs": [
        {
          "output_type": "stream",
          "name": "stdout",
          "text": [
            "Best accuracy percent for KNN with k = 5 is 96.94\n"
          ]
        }
      ]
    }
  ],
  "metadata": {
    "kernelspec": {
      "display_name": "Python 3 (ipykernel)",
      "language": "python",
      "name": "python3"
    },
    "language_info": {
      "codemirror_mode": {
        "name": "ipython",
        "version": 3
      },
      "file_extension": ".py",
      "mimetype": "text/x-python",
      "name": "python",
      "nbconvert_exporter": "python",
      "pygments_lexer": "ipython3",
      "version": "3.9.10"
    },
    "colab": {
      "provenance": []
    }
  },
  "nbformat": 4,
  "nbformat_minor": 5
}