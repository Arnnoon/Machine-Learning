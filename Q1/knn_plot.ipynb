{
  "nbformat": 4,
  "nbformat_minor": 0,
  "metadata": {
    "colab": {
      "provenance": []
    },
    "kernelspec": {
      "name": "python3",
      "display_name": "Python 3"
    },
    "language_info": {
      "name": "python"
    }
  },
  "cells": [
    {
      "cell_type": "code",
      "execution_count": 1,
      "metadata": {
        "id": "O6-zL7SyE1EK"
      },
      "outputs": [],
      "source": [
        "import cv2 as cv\n",
        "import numpy as np\n",
        "import matplotlib.pyplot as plt"
      ]
    },
    {
      "cell_type": "markdown",
      "source": [
        "#Create Training"
      ],
      "metadata": {
        "id": "IMkO5UEyHMYN"
      }
    },
    {
      "cell_type": "code",
      "source": [
        "# Feature set containing 25 * 2 for 25 (x,y) values of known/training data that are random integers 0-99\n",
        "trainData = np.random.randint(0,100,(25,2)).astype(np.float32)\n",
        "# Label each one either Red or Blue with numbers 0 and 1. Response is a random integers 0-1 of 25 * 1 values\n",
        "responses = np.random.randint(0,3,(25,1)).astype(np.float32) #responses 25 x 1 matrix "
      ],
      "metadata": {
        "id": "WKDL-RC_HRAy"
      },
      "execution_count": 2,
      "outputs": []
    },
    {
      "cell_type": "code",
      "source": [
        "print (\"Training Data:\\n\", trainData)\n",
        "print(\"\\n Responses:\\n\", responses)\n",
        "print(\"Responses Ravel or flattened as 1-D:\\n\", responses.ravel()) #Method .ravel flattens the np array to 1-D. \n",
        "print(\"Red Responses: \\n \", responses.ravel()== 0) #color 0 is \"Red\", color 1 is blue"
      ],
      "metadata": {
        "colab": {
          "base_uri": "https://localhost:8080/"
        },
        "id": "8_xZoVxwHTm6",
        "outputId": "574e1b5d-2d2a-4b76-e9c9-106af07defae"
      },
      "execution_count": 3,
      "outputs": [
        {
          "output_type": "stream",
          "name": "stdout",
          "text": [
            "Training Data:\n",
            " [[75. 76.]\n",
            " [46. 44.]\n",
            " [30. 50.]\n",
            " [11. 29.]\n",
            " [36. 14.]\n",
            " [52. 26.]\n",
            " [18. 93.]\n",
            " [87. 63.]\n",
            " [82. 87.]\n",
            " [27. 10.]\n",
            " [27. 86.]\n",
            " [69. 28.]\n",
            " [83. 48.]\n",
            " [96. 35.]\n",
            " [18. 88.]\n",
            " [62. 25.]\n",
            " [40. 69.]\n",
            " [78. 30.]\n",
            " [ 3. 41.]\n",
            " [ 0. 64.]\n",
            " [44.  7.]\n",
            " [87. 90.]\n",
            " [ 0. 60.]\n",
            " [97. 88.]\n",
            " [52.  4.]]\n",
            "\n",
            " Responses:\n",
            " [[0.]\n",
            " [1.]\n",
            " [1.]\n",
            " [1.]\n",
            " [2.]\n",
            " [0.]\n",
            " [2.]\n",
            " [0.]\n",
            " [1.]\n",
            " [2.]\n",
            " [2.]\n",
            " [0.]\n",
            " [1.]\n",
            " [0.]\n",
            " [1.]\n",
            " [2.]\n",
            " [1.]\n",
            " [1.]\n",
            " [2.]\n",
            " [2.]\n",
            " [1.]\n",
            " [0.]\n",
            " [1.]\n",
            " [0.]\n",
            " [2.]]\n",
            "Responses Ravel or flattened as 1-D:\n",
            " [0. 1. 1. 1. 2. 0. 2. 0. 1. 2. 2. 0. 1. 0. 1. 2. 1. 1. 2. 2. 1. 0. 1. 0.\n",
            " 2.]\n",
            "Red Responses: \n",
            "  [ True False False False False  True False  True False False False  True\n",
            " False  True False False False False False False False  True False  True\n",
            " False]\n"
          ]
        }
      ]
    },
    {
      "cell_type": "code",
      "source": [
        "# Make red and blue\n",
        "red = trainData[responses.ravel()==0] #red is now trained data with responses of 0\n",
        "print(red)"
      ],
      "metadata": {
        "colab": {
          "base_uri": "https://localhost:8080/"
        },
        "id": "fKv3mgzvHW4m",
        "outputId": "9267b8bc-d2b0-4ad0-cf40-73ea4b7706da"
      },
      "execution_count": 4,
      "outputs": [
        {
          "output_type": "stream",
          "name": "stdout",
          "text": [
            "[[75. 76.]\n",
            " [52. 26.]\n",
            " [87. 63.]\n",
            " [69. 28.]\n",
            " [96. 35.]\n",
            " [87. 90.]\n",
            " [97. 88.]]\n"
          ]
        }
      ]
    },
    {
      "cell_type": "code",
      "source": [
        "blue = trainData[responses.ravel()==1] #blue is now the trained data with responses of 1 \n",
        "print(blue)"
      ],
      "metadata": {
        "colab": {
          "base_uri": "https://localhost:8080/"
        },
        "id": "MMM-wTRsW948",
        "outputId": "d4741a9f-17f6-48db-ad2e-5db79171f02c"
      },
      "execution_count": 5,
      "outputs": [
        {
          "output_type": "stream",
          "name": "stdout",
          "text": [
            "[[46. 44.]\n",
            " [30. 50.]\n",
            " [11. 29.]\n",
            " [82. 87.]\n",
            " [83. 48.]\n",
            " [18. 88.]\n",
            " [40. 69.]\n",
            " [78. 30.]\n",
            " [44.  7.]\n",
            " [ 0. 60.]]\n"
          ]
        }
      ]
    },
    {
      "cell_type": "code",
      "source": [
        "yellow = trainData[responses.ravel()==2] #blue is now the trained data with responses of 1 \n",
        "print(yellow)"
      ],
      "metadata": {
        "colab": {
          "base_uri": "https://localhost:8080/"
        },
        "id": "RVIMfCeyHc44",
        "outputId": "4aeb61a2-9da0-4052-d4ce-8751b0ef504d"
      },
      "execution_count": 6,
      "outputs": [
        {
          "output_type": "stream",
          "name": "stdout",
          "text": [
            "[[36. 14.]\n",
            " [18. 93.]\n",
            " [27. 10.]\n",
            " [27. 86.]\n",
            " [62. 25.]\n",
            " [ 3. 41.]\n",
            " [ 0. 64.]\n",
            " [52.  4.]]\n"
          ]
        }
      ]
    },
    {
      "cell_type": "code",
      "source": [
        "#matplotlib.pyplot.scatter(x, y, s=None, c=None, marker=None, ...)\n",
        "plt.scatter(red[:,0],red[:,1],80,'r','^') #size 80, red, triangle\n",
        "plt.scatter(blue[:,0],blue[:,1],80,'b','s') #size 80, blue, square\n",
        "plt.scatter(yellow[:,0],yellow[:,1],80,'yellow','h') #size 80, yellow, hexagon\n",
        "plt.show()"
      ],
      "metadata": {
        "colab": {
          "base_uri": "https://localhost:8080/",
          "height": 265
        },
        "id": "8UBVmMQ_Hhhi",
        "outputId": "c59c9c4e-d7b7-4001-865c-1c0680f81e33"
      },
      "execution_count": 7,
      "outputs": [
        {
          "output_type": "display_data",
          "data": {
            "text/plain": [
              "<Figure size 432x288 with 1 Axes>"
            ],
            "image/png": "[encoded data removed]"
          },
          "metadata": {
            "needs_background": "light"
          }
        }
      ]
    },
    {
      "cell_type": "markdown",
      "source": [
        "#Test Unknown Data"
      ],
      "metadata": {
        "id": "QG4sK2AKHjqo"
      }
    },
    {
      "cell_type": "code",
      "source": [
        "#create 1 * 2 or 1 (x,y) value with random integer 0-99\n",
        "newcomer = np.random.randint(0,100,(1,2)).astype(np.float32)\n",
        "print(newcomer)"
      ],
      "metadata": {
        "colab": {
          "base_uri": "https://localhost:8080/"
        },
        "id": "yNrrNSejHnj-",
        "outputId": "bf0eaf56-3632-4b9c-d69d-cfd9a263a06b"
      },
      "execution_count": 8,
      "outputs": [
        {
          "output_type": "stream",
          "name": "stdout",
          "text": [
            "[[ 9. 95.]]\n"
          ]
        }
      ]
    },
    {
      "cell_type": "code",
      "source": [
        "plt.scatter(red[:,0],red[:,1],80,'r','^') #red, triangle\n",
        "plt.scatter(blue[:,0],blue[:,1],80,'b','s') #blue, square\n",
        "plt.scatter(yellow[:,0],yellow[:,1],80,'yellow','h') #yellow, hexagon\n",
        "plt.scatter(newcomer[:,0],newcomer[:,1],80,'g','o') #green, circle\n",
        "plt.show()"
      ],
      "metadata": {
        "colab": {
          "base_uri": "https://localhost:8080/",
          "height": 265
        },
        "id": "UBZpm3KiJprO",
        "outputId": "ca1ca5c6-a561-4729-801a-234432b82287"
      },
      "execution_count": 9,
      "outputs": [
        {
          "output_type": "display_data",
          "data": {
            "text/plain": [
              "<Figure size 432x288 with 1 Axes>"
            ],
            "image/png": "[encoded data removed]"
          },
          "metadata": {
            "needs_background": "light"
          }
        }
      ]
    },
    {
      "cell_type": "code",
      "source": [
        "colorName = np.array(['Red', 'Blue', 'Yellow'])\n",
        "\n",
        "knn = cv.ml.KNearest_create()\n",
        "knn.train(trainData, cv.ml.ROW_SAMPLE, responses)\n",
        "k = 4\n",
        "ret, results, neighbors, dist = knn.findNearest(newcomer, k)\n",
        "\n",
        "'''\n",
        "resultColor = []\n",
        "for result in results:  \n",
        "    if result[0] == 0: \n",
        "        resultColor.append(\"Red\")\n",
        "    else:\n",
        "        resultColor.append(\"Blue\")\n",
        "\n",
        "neighborColors = []\n",
        "for neighbor in neighbors[0]:  \n",
        "    if neighbor == 0: \n",
        "        neighborColors.append(\"Red\")\n",
        "    else:\n",
        "        neighborColors.append(\"Blue\")\n",
        "'''\n",
        "resultColor = colorName[results[0].astype(int)]\n",
        "neighborColors = colorName[neighbors[0].astype(int)]\n",
        "\n",
        "print( \"result color:  {}\\n\".format(resultColor) )\n",
        "print( \"neighbors:  {}\\n\".format(neighbors) )\n",
        "print( \"neighbor colors:  {}\\n\".format(neighborColors) )\n",
        "print( \"neighbor distances:  {}\\n\".format(dist[0]) )"
      ],
      "metadata": {
        "id": "JYA4emSNLBr7",
        "colab": {
          "base_uri": "https://localhost:8080/"
        },
        "outputId": "88e11cbb-ee41-4e14-fd71-5d9ebf1d2293"
      },
      "execution_count": 12,
      "outputs": [
        {
          "output_type": "stream",
          "name": "stdout",
          "text": [
            "result color:  ['Yellow']\n",
            "\n",
            "neighbors:  [[2. 1. 2. 2.]]\n",
            "\n",
            "neighbor colors:  ['Yellow' 'Blue' 'Yellow' 'Yellow']\n",
            "\n",
            "neighbor distances:  [  85.  130.  405. 1042.]\n",
            "\n"
          ]
        }
      ]
    }
  ]
}