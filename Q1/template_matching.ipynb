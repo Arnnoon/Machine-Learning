{
  "cells": [
    {
      "cell_type": "code",
      "execution_count": null,
      "metadata": {
        "id": "YNEd_99EJ82h"
      },
      "outputs": [],
      "source": [
        "import cv2"
      ]
    },
    {
      "cell_type": "code",
      "execution_count": null,
      "metadata": {
        "id": "67b4Z_sYJ82j"
      },
      "outputs": [],
      "source": [
        "#this was created because Google Colab does not allow cv2.imshow, so must patch by cv2_imshow.  \n",
        "#If we switch over to regular jupyter notebook not on Colab, we can change c2_imshow to cv2.imshow.  \n",
        "from google.colab.patches import cv2_imshow #only used when running in Google Colab \n",
        "def my_imshow(title, img ):\n",
        "  cv2_imshow(img) #should be changed to c2.imshow when not in Colab"
      ]
    },
    {
      "cell_type": "code",
      "execution_count": null,
      "metadata": {
        "id": "ijIX-1s6J82k"
      },
      "outputs": [],
      "source": [
        "path = \"\"\n",
        "fileNameTemplate = path + \"t_character.png\"\n",
        "fileNameImage = path + \"text_image.png\"\n",
        "\n",
        "#RGB images in BGR order in OpenCV\n",
        "template = cv2.imread(fileNameTemplate, cv2.IMREAD_COLOR)\n",
        "image = cv2.imread(fileNameImage, cv2.IMREAD_COLOR)\n",
        "\n",
        "# Print error message if image is null\n",
        "if template is None or image is None:\n",
        "    print('Could not read image')\n",
        "else: \n",
        "    print(\"Image file read success...\")\n",
        "    my_imshow(\"template\", template)\n",
        "    my_imshow(\"image\", image)"
      ]
    },
    {
      "cell_type": "code",
      "source": [
        "# Get the size of the image\n",
        "height, width = image.shape[:2]\n",
        "print(\"Width:\", width)\n",
        "print(\"Height:\", height)"
      ],
      "metadata": {
        "id": "FveCRwq6KKr9"
      },
      "execution_count": null,
      "outputs": []
    },
    {
      "cell_type": "code",
      "source": [
        "import cv2\n",
        "import numpy as np\n",
        "\n",
        "#this was created because Google Colab does not allow cv2.imshow, so must patch by cv2_imshow.  \n",
        "#If we switch over to regular jupyter notebook not on Colab, we can change c2_imshow to cv2.imshow.  \n",
        "from google.colab.patches import cv2_imshow #only used when running in Google Colab \n",
        "def my_imshow(title, img ):\n",
        "  cv2_imshow(img) #should be changed to c2.imshow when not in Colab\n",
        "\n",
        "# Set a threshold for detection\n",
        "threshold = 0.9\n",
        "match_x = []\n",
        "match_y = []\n",
        "\n",
        "# Read the template and larger images\n",
        "template = cv2.imread(\"t_character.png\", 2)\n",
        "image = cv2.imread(\"text_image.png\", 2)\n",
        "\n",
        "# Get the size of the template and input images\n",
        "template_height, template_width = template.shape\n",
        "image_height, image_width = image.shape\n",
        "print(\"template:\", template_height, template_width)\n",
        "print(\"image:\", image_height, image_width)\n",
        "print(template)"
      ],
      "metadata": {
        "colab": {
          "base_uri": "https://localhost:8080/"
        },
        "id": "kDjwX6_Oo6Hm",
        "outputId": "2725ab10-a669-416d-c035-ab534cac88a6"
      },
      "execution_count": 47,
      "outputs": [
        {
          "output_type": "stream",
          "name": "stdout",
          "text": [
            "template: 9 8\n",
            "image: 851 634\n",
            "[[255 255 165  68 245 255 255 255]\n",
            " [255 255 165  68 245 255 255 255]\n",
            " [165   0   0   0   0   0  21 205]\n",
            " [255 255 165  68 245 255 255 255]\n",
            " [255 255 165  68 245 255 255 255]\n",
            " [255 255 165  68 245 255 255 255]\n",
            " [255 255 165  68 245 255 255 255]\n",
            " [255 255 201  21 205 255 255 255]\n",
            " [255 255 255 128   0   0  21 205]]\n"
          ]
        }
      ]
    },
    {
      "cell_type": "code",
      "source": [
        "# Iterate over the input image\n",
        "for i in range(8, image_height-8):\n",
        "    for j in range(7, image_width-7):\n",
        "        # Extract the sub-image\n",
        "        sub_image = image[i:i+template_height, j:j+template_width]\n",
        "        if (template == sub_image).all():\n",
        "            # Append the x, y coordinates to the matching lists\n",
        "            match_x.append(j)\n",
        "            match_y.append(i)\n",
        "        \n",
        "print(match_x)\n",
        "print(match_y)\n",
        "\n",
        "# Draw bounding boxes on the image\n",
        "for i in range(len(match_x)):\n",
        "  markedImage = cv2.rectangle(image, (match_x[i], match_y[i]), (match_x[i]+template_width, match_y[i]+template_height), (0, 0, 255), 1)\n",
        "\n",
        "# Show the image\n",
        "my_imshow(\"Template Matching\", markedImage)\n",
        "cv2.waitKey(0)\n",
        "cv2.destroyAllWindows()\n"
      ],
      "metadata": {
        "colab": {
          "base_uri": "https://localhost:8080/",
          "height": 903
        },
        "id": "XqYZbg_XKRBe",
        "outputId": "8401c712-92e8-4959-db5e-a3dc9d8fe29a"
      },
      "execution_count": 48,
      "outputs": [
        {
          "output_type": "stream",
          "name": "stdout",
          "text": [
            "[43, 43, 43, 75, 107, 187, 243, 107, 123, 67, 107, 395, 443, 235, 75, 195, 267, 75, 99, 123, 139, 91, 91, 19, 107, 163, 51, 67, 155, 67, 163, 531, 571, 51, 67, 155, 211, 67, 131, 43, 67, 147, 171, 27, 163]\n",
            "[8, 26, 44, 44, 44, 44, 44, 152, 152, 188, 188, 188, 188, 206, 224, 224, 224, 296, 296, 314, 314, 332, 350, 458, 458, 494, 512, 548, 548, 584, 620, 620, 620, 638, 674, 674, 674, 710, 710, 818, 818, 818, 818, 836, 836]\n"
          ]
        },
        {
          "output_type": "display_data",
          "data": {
            "text/plain": [
              "<PIL.Image.Image image mode=L size=634x851 at 0x7F36496208B0>"
            ],
            "image/png": "[encoded data removed]"
          },
          "metadata": {}
        }
      ]
    }
  ],
  "metadata": {
    "kernelspec": {
      "display_name": "Python 3",
      "language": "python",
      "name": "python3"
    },
    "language_info": {
      "codemirror_mode": {
        "name": "ipython",
        "version": 3
      },
      "file_extension": ".py",
      "mimetype": "text/x-python",
      "name": "python",
      "nbconvert_exporter": "python",
      "pygments_lexer": "ipython3",
      "version": "3.11.1"
    },
    "orig_nbformat": 4,
    "vscode": {
      "interpreter": {
        "hash": "c261aea317cc0286b3b3261fbba9abdec21eaa57589985bb7a274bf54d6cc0a7"
      }
    },
    "colab": {
      "provenance": []
    }
  },
  "nbformat": 4,
  "nbformat_minor": 0
}